{
 "metadata": {
  "language_info": {
   "codemirror_mode": {
    "name": "ipython",
    "version": 3
   },
   "file_extension": ".py",
   "mimetype": "text/x-python",
   "name": "python",
   "nbconvert_exporter": "python",
   "pygments_lexer": "ipython3",
   "version": "3.7.4-final"
  },
  "orig_nbformat": 2,
  "kernelspec": {
   "name": "python3",
   "display_name": "Python 3",
   "language": "python"
  }
 },
 "nbformat": 4,
 "nbformat_minor": 2,
 "cells": [
  {
   "cell_type": "code",
   "execution_count": 22,
   "metadata": {},
   "outputs": [],
   "source": [
    "import pandas as pd"
   ]
  },
  {
   "cell_type": "code",
   "execution_count": 32,
   "metadata": {},
   "outputs": [],
   "source": [
    "#province data\n",
    "\n",
    "df_pro=pd.DataFrame(columns=['دیم','آبی','کل','استان'])\n",
    "\n",
    "for i in range(1,31):\n",
    "    df_i=pd.read_excel(r'Excel\\agri93- ('+str(i)+').xls', sheet_name='t26')\n",
    "    \n",
    "    df_i.dropna(how='all', inplace=True)\n",
    "    Provinces=[(df_i.iloc[0,2].split('(')[1].split(')')[0])]*3\n",
    "    \n",
    "    df_i.dropna(thresh=2, inplace=True)\n",
    "    \n",
    "    df_i.reset_index(inplace=True, drop=True)\n",
    "    df_i.drop([1,5,6], inplace=True)\n",
    "    df_i.drop(df_i.columns[[0,1,2,4,6,8]], axis=1, inplace=True)\n",
    "    df_i.dropna(how='all', axis=1, inplace=True)\n",
    "\n",
    "    df_i.columns=df_i.iloc[0]\n",
    "    df_i.drop([0], inplace=True)\n",
    "    df_i.set_index(list(df_i.columns[[3]]), inplace=True)\n",
    "    \n",
    "    df_i['استان']=Provinces\n",
    "    df_pro=pd.concat([df_pro,df_i])"
   ]
  },
  {
   "cell_type": "code",
   "execution_count": 33,
   "metadata": {},
   "outputs": [],
   "source": [
    "df_pro['استان']=df_pro['استان'].str.replace('استان ','')\n",
    "df_pro['محصول']=df_pro.index\n",
    "df_pro.reset_index(drop=True, inplace=True)\n",
    "df_pro=df_pro[['دیم', 'آبی', 'کل', 'محصول', 'استان']]"
   ]
  },
  {
   "cell_type": "code",
   "execution_count": 34,
   "metadata": {},
   "outputs": [
    {
     "output_type": "execute_result",
     "data": {
      "text/plain": [
       "0       دیم      آبی       کل محصول         استان\n",
       "0    200890   111316   312206   کل          مرکزي\n",
       "1    187423  36994.7   224418  گندم         مرکزي\n",
       "2   10378.2  33784.7  44162.9    جو         مرکزي\n",
       "3   17593.2   129309   146903   کل          گيلان\n",
       "4   7578.31  168.099  7746.41  گندم         گيلان\n",
       "..      ...      ...      ...   ...           ...\n",
       "85  93301.1  39594.1   132895  گندم  خراسان شمالي\n",
       "86  34845.7  25233.9  60079.6    جو  خراسان شمالي\n",
       "87  11773.8  62324.6  74098.4   کل   خراسان جنوبي\n",
       "88  8690.32    18179  26869.3  گندم  خراسان جنوبي\n",
       "89  1562.55  18722.7  20285.3    جو  خراسان جنوبي\n",
       "\n",
       "[90 rows x 5 columns]"
      ],
      "text/html": "<div>\n<style scoped>\n    .dataframe tbody tr th:only-of-type {\n        vertical-align: middle;\n    }\n\n    .dataframe tbody tr th {\n        vertical-align: top;\n    }\n\n    .dataframe thead th {\n        text-align: right;\n    }\n</style>\n<table border=\"1\" class=\"dataframe\">\n  <thead>\n    <tr style=\"text-align: right;\">\n      <th></th>\n      <th>دیم</th>\n      <th>آبی</th>\n      <th>کل</th>\n      <th>محصول</th>\n      <th>استان</th>\n    </tr>\n  </thead>\n  <tbody>\n    <tr>\n      <td>0</td>\n      <td>200890</td>\n      <td>111316</td>\n      <td>312206</td>\n      <td>کل</td>\n      <td>مرکزي</td>\n    </tr>\n    <tr>\n      <td>1</td>\n      <td>187423</td>\n      <td>36994.7</td>\n      <td>224418</td>\n      <td>گندم</td>\n      <td>مرکزي</td>\n    </tr>\n    <tr>\n      <td>2</td>\n      <td>10378.2</td>\n      <td>33784.7</td>\n      <td>44162.9</td>\n      <td>جو</td>\n      <td>مرکزي</td>\n    </tr>\n    <tr>\n      <td>3</td>\n      <td>17593.2</td>\n      <td>129309</td>\n      <td>146903</td>\n      <td>کل</td>\n      <td>گيلان</td>\n    </tr>\n    <tr>\n      <td>4</td>\n      <td>7578.31</td>\n      <td>168.099</td>\n      <td>7746.41</td>\n      <td>گندم</td>\n      <td>گيلان</td>\n    </tr>\n    <tr>\n      <td>...</td>\n      <td>...</td>\n      <td>...</td>\n      <td>...</td>\n      <td>...</td>\n      <td>...</td>\n    </tr>\n    <tr>\n      <td>85</td>\n      <td>93301.1</td>\n      <td>39594.1</td>\n      <td>132895</td>\n      <td>گندم</td>\n      <td>خراسان شمالي</td>\n    </tr>\n    <tr>\n      <td>86</td>\n      <td>34845.7</td>\n      <td>25233.9</td>\n      <td>60079.6</td>\n      <td>جو</td>\n      <td>خراسان شمالي</td>\n    </tr>\n    <tr>\n      <td>87</td>\n      <td>11773.8</td>\n      <td>62324.6</td>\n      <td>74098.4</td>\n      <td>کل</td>\n      <td>خراسان جنوبي</td>\n    </tr>\n    <tr>\n      <td>88</td>\n      <td>8690.32</td>\n      <td>18179</td>\n      <td>26869.3</td>\n      <td>گندم</td>\n      <td>خراسان جنوبي</td>\n    </tr>\n    <tr>\n      <td>89</td>\n      <td>1562.55</td>\n      <td>18722.7</td>\n      <td>20285.3</td>\n      <td>جو</td>\n      <td>خراسان جنوبي</td>\n    </tr>\n  </tbody>\n</table>\n<p>90 rows × 5 columns</p>\n</div>"
     },
     "metadata": {},
     "execution_count": 34
    }
   ],
   "source": [
    "df_pro"
   ]
  },
  {
   "cell_type": "code",
   "execution_count": 35,
   "metadata": {},
   "outputs": [],
   "source": [
    "#city data wheat\n",
    "\n",
    "df_city_wheat=pd.DataFrame(columns=['دیم','آبی','کل'])\n",
    "#    i=1\n",
    "for i in range(1,31):\n",
    "    df_i=pd.read_excel(r'Excel\\agri93- ('+str(i)+').xls', sheet_name='t27')\n",
    "    df_i.dropna(how='all', inplace=True)\n",
    "    #Provinces=[(df_i.iloc[0,1].split('(')[1].split(')')[0])]*3\n",
    "    \n",
    "    df_i.dropna(thresh=2, inplace=True)\n",
    "    \n",
    "    df_i.reset_index(inplace=True, drop=True)\n",
    "    df_i.drop([1,2], inplace=True)\n",
    "    df_i.drop(df_i.columns[[0,2,4,6]], axis=1, inplace=True)\n",
    "    df_i.dropna(how='all', axis=1, inplace=True)\n",
    "\n",
    "    df_i.columns=df_i.iloc[0]\n",
    "    df_i.drop([0], inplace=True)\n",
    "    df_i.set_index(list(df_i.columns[[3]]), inplace=True)\n",
    "    \n",
    "    #df_i['استان']=Provinces\n",
    "    df_city_wheat=pd.concat([df_city_wheat,df_i])"
   ]
  },
  {
   "cell_type": "code",
   "execution_count": 36,
   "metadata": {},
   "outputs": [],
   "source": [
    "#city data Barley\n",
    "\n",
    "df_city_barley=pd.DataFrame(columns=['دیم','آبی','کل'])\n",
    "#    i=1\n",
    "for i in range(1,31):\n",
    "    df_i=pd.read_excel(r'Excel\\agri93- ('+str(i)+').xls', sheet_name='t31')\n",
    "    df_i.dropna(how='all', inplace=True)\n",
    "    #Provinces=[(df_i.iloc[0,1].split('(')[1].split(')')[0])]*3\n",
    "    \n",
    "    df_i.dropna(thresh=2, inplace=True)\n",
    "    \n",
    "    df_i.reset_index(inplace=True, drop=True)\n",
    "    df_i.drop([1,2], inplace=True)\n",
    "    df_i.drop(df_i.columns[[0,2,4,6]], axis=1, inplace=True)\n",
    "    df_i.dropna(how='all', axis=1, inplace=True)\n",
    "\n",
    "    df_i.columns=df_i.iloc[0]\n",
    "    df_i.drop([0], inplace=True)\n",
    "    df_i.set_index(list(df_i.columns[[3]]), inplace=True)\n",
    "    \n",
    "    #df_i['استان']=Provinces\n",
    "    df_city_barley=pd.concat([df_city_barley,df_i])"
   ]
  },
  {
   "cell_type": "code",
   "execution_count": 37,
   "metadata": {},
   "outputs": [],
   "source": [
    "df_city_barley['محصول']='جو'\n",
    "df_city_wheat['محصول']='گندم'\n",
    "df_wb=pd.concat([df_city_wheat,df_city_barley])\n",
    "df_wb['شهرستان']=df_wb.index\n",
    "df_wb.reset_index(drop=True, inplace=True)"
   ]
  },
  {
   "cell_type": "code",
   "execution_count": 44,
   "metadata": {},
   "outputs": [],
   "source": [
    "#df_total=pd.concat([df_wb,df_pro])\n",
    "#df_total.reset_index(drop=True, inplace=True)\n",
    "#df_total"
   ]
  },
  {
   "cell_type": "code",
   "execution_count": 46,
   "metadata": {},
   "outputs": [
    {
     "output_type": "execute_result",
     "data": {
      "text/plain": [
       "0       دیم      آبی       کل محصول         استان              کلید\n",
       "0    200890   111316   312206   کل          مرکزي          کل مرکزي\n",
       "1    187423  36994.7   224418  گندم         مرکزي         گندممرکزي\n",
       "2   10378.2  33784.7  44162.9    جو         مرکزي           جومرکزي\n",
       "3   17593.2   129309   146903   کل          گيلان          کل گيلان\n",
       "4   7578.31  168.099  7746.41  گندم         گيلان         گندمگيلان\n",
       "..      ...      ...      ...   ...           ...               ...\n",
       "85  93301.1  39594.1   132895  گندم  خراسان شمالي  گندمخراسان شمالي\n",
       "86  34845.7  25233.9  60079.6    جو  خراسان شمالي    جوخراسان شمالي\n",
       "87  11773.8  62324.6  74098.4   کل   خراسان جنوبي   کل خراسان جنوبي\n",
       "88  8690.32    18179  26869.3  گندم  خراسان جنوبي  گندمخراسان جنوبي\n",
       "89  1562.55  18722.7  20285.3    جو  خراسان جنوبي    جوخراسان جنوبي\n",
       "\n",
       "[90 rows x 6 columns]"
      ],
      "text/html": "<div>\n<style scoped>\n    .dataframe tbody tr th:only-of-type {\n        vertical-align: middle;\n    }\n\n    .dataframe tbody tr th {\n        vertical-align: top;\n    }\n\n    .dataframe thead th {\n        text-align: right;\n    }\n</style>\n<table border=\"1\" class=\"dataframe\">\n  <thead>\n    <tr style=\"text-align: right;\">\n      <th></th>\n      <th>دیم</th>\n      <th>آبی</th>\n      <th>کل</th>\n      <th>محصول</th>\n      <th>استان</th>\n      <th>کلید</th>\n    </tr>\n  </thead>\n  <tbody>\n    <tr>\n      <td>0</td>\n      <td>200890</td>\n      <td>111316</td>\n      <td>312206</td>\n      <td>کل</td>\n      <td>مرکزي</td>\n      <td>کل مرکزي</td>\n    </tr>\n    <tr>\n      <td>1</td>\n      <td>187423</td>\n      <td>36994.7</td>\n      <td>224418</td>\n      <td>گندم</td>\n      <td>مرکزي</td>\n      <td>گندممرکزي</td>\n    </tr>\n    <tr>\n      <td>2</td>\n      <td>10378.2</td>\n      <td>33784.7</td>\n      <td>44162.9</td>\n      <td>جو</td>\n      <td>مرکزي</td>\n      <td>جومرکزي</td>\n    </tr>\n    <tr>\n      <td>3</td>\n      <td>17593.2</td>\n      <td>129309</td>\n      <td>146903</td>\n      <td>کل</td>\n      <td>گيلان</td>\n      <td>کل گيلان</td>\n    </tr>\n    <tr>\n      <td>4</td>\n      <td>7578.31</td>\n      <td>168.099</td>\n      <td>7746.41</td>\n      <td>گندم</td>\n      <td>گيلان</td>\n      <td>گندمگيلان</td>\n    </tr>\n    <tr>\n      <td>...</td>\n      <td>...</td>\n      <td>...</td>\n      <td>...</td>\n      <td>...</td>\n      <td>...</td>\n      <td>...</td>\n    </tr>\n    <tr>\n      <td>85</td>\n      <td>93301.1</td>\n      <td>39594.1</td>\n      <td>132895</td>\n      <td>گندم</td>\n      <td>خراسان شمالي</td>\n      <td>گندمخراسان شمالي</td>\n    </tr>\n    <tr>\n      <td>86</td>\n      <td>34845.7</td>\n      <td>25233.9</td>\n      <td>60079.6</td>\n      <td>جو</td>\n      <td>خراسان شمالي</td>\n      <td>جوخراسان شمالي</td>\n    </tr>\n    <tr>\n      <td>87</td>\n      <td>11773.8</td>\n      <td>62324.6</td>\n      <td>74098.4</td>\n      <td>کل</td>\n      <td>خراسان جنوبي</td>\n      <td>کل خراسان جنوبي</td>\n    </tr>\n    <tr>\n      <td>88</td>\n      <td>8690.32</td>\n      <td>18179</td>\n      <td>26869.3</td>\n      <td>گندم</td>\n      <td>خراسان جنوبي</td>\n      <td>گندمخراسان جنوبي</td>\n    </tr>\n    <tr>\n      <td>89</td>\n      <td>1562.55</td>\n      <td>18722.7</td>\n      <td>20285.3</td>\n      <td>جو</td>\n      <td>خراسان جنوبي</td>\n      <td>جوخراسان جنوبي</td>\n    </tr>\n  </tbody>\n</table>\n<p>90 rows × 6 columns</p>\n</div>"
     },
     "metadata": {},
     "execution_count": 46
    }
   ],
   "source": [
    "df_pro['کلید']=df_pro['محصول']+df_pro['استان']\n",
    "df_pro"
   ]
  },
  {
   "cell_type": "code",
   "execution_count": 48,
   "metadata": {},
   "outputs": [
    {
     "output_type": "execute_result",
     "data": {
      "text/plain": [
       "       Unnamed: 0 Unnamed: 1 Unnamed: 2 Unnamed: 3  Unnamed: 4 Unnamed: 5  \\\n",
       "0     استان/منطقه        NaN         کد        NaN       محصول        NaN   \n",
       "1             نام         کد      استان    شهرستان         نام         کد   \n",
       "2          مرکزى‏          0          0          0       گندم‏        102   \n",
       "3          مرکزى‏          0          0          0          جو        104   \n",
       "4          مرکزى‏          0          0          0  کل محصولات        199   \n",
       "...           ...        ...        ...        ...         ...        ...   \n",
       "1337     کل‏ کشور       9900         99          0       گندم‏        102   \n",
       "1338     کل‏ کشور       9900         99          0          جو        104   \n",
       "1339     کل‏ کشور       9900         99          0  کل محصولات        199   \n",
       "1340          NaN        NaN        NaN        NaN         NaN        NaN   \n",
       "1341          NaN        NaN        NaN        NaN         NaN        NaN   \n",
       "\n",
       "       Unnamed: 6   Unnamed: 7   Unnamed: 8 Unnamed: 9  \\\n",
       "0            سطح‏          NaN          NaN        NaN   \n",
       "1            آبى‏         ديم‏         جمع‏        NaN   \n",
       "2         65000.5       145001       210002      استان   \n",
       "3         39506.9        11841      51347.9      استان   \n",
       "4          164781       165650       330431      استان   \n",
       "...           ...          ...          ...        ...   \n",
       "1337  2.25571e+06  3.80554e+06  6.06125e+06        NaN   \n",
       "1338       710134  1.00293e+06  1.71306e+06        NaN   \n",
       "1339  6.13242e+06      5705487  1.18379e+07        NaN   \n",
       "1340          NaN          NaN          NaN        NaN   \n",
       "1341          NaN          NaN      11057.9        NaN   \n",
       "\n",
       "     سرشمار مرکز آمار ايران براي سطح کشت محصولات Unnamed: 11 Unnamed: 12  \\\n",
       "0                                       شهرستان        محصول    سطح‏ کشت   \n",
       "1                                            نام         نام        آبى‏   \n",
       "2                                         مرکزى‏       گندم‏         NaN   \n",
       "3                                         مرکزى‏          جو         NaN   \n",
       "4                                         مرکزى‏  کل محصولات         NaN   \n",
       "...                                          ...         ...         ...   \n",
       "1337                                    کل‏ کشور       گندم‏         NaN   \n",
       "1338                                    کل‏ کشور          جو         NaN   \n",
       "1339                                    کل‏ کشور  کل محصولات         NaN   \n",
       "1340                                         NaN         NaN         NaN   \n",
       "1341                                         NaN         NaN         NaN   \n",
       "\n",
       "     Unnamed: 13 Unnamed: 14  \n",
       "0            NaN         NaN  \n",
       "1           ديم‏        جمع‏  \n",
       "2            NaN         NaN  \n",
       "3            NaN         NaN  \n",
       "4            NaN         NaN  \n",
       "...          ...         ...  \n",
       "1337         NaN         NaN  \n",
       "1338         NaN         NaN  \n",
       "1339         NaN         NaN  \n",
       "1340         NaN         NaN  \n",
       "1341         NaN         NaN  \n",
       "\n",
       "[1342 rows x 15 columns]"
      ],
      "text/html": "<div>\n<style scoped>\n    .dataframe tbody tr th:only-of-type {\n        vertical-align: middle;\n    }\n\n    .dataframe tbody tr th {\n        vertical-align: top;\n    }\n\n    .dataframe thead th {\n        text-align: right;\n    }\n</style>\n<table border=\"1\" class=\"dataframe\">\n  <thead>\n    <tr style=\"text-align: right;\">\n      <th></th>\n      <th>Unnamed: 0</th>\n      <th>Unnamed: 1</th>\n      <th>Unnamed: 2</th>\n      <th>Unnamed: 3</th>\n      <th>Unnamed: 4</th>\n      <th>Unnamed: 5</th>\n      <th>Unnamed: 6</th>\n      <th>Unnamed: 7</th>\n      <th>Unnamed: 8</th>\n      <th>Unnamed: 9</th>\n      <th>سرشمار مرکز آمار ايران براي سطح کشت محصولات</th>\n      <th>Unnamed: 11</th>\n      <th>Unnamed: 12</th>\n      <th>Unnamed: 13</th>\n      <th>Unnamed: 14</th>\n    </tr>\n  </thead>\n  <tbody>\n    <tr>\n      <td>0</td>\n      <td>استان/منطقه</td>\n      <td>NaN</td>\n      <td>کد</td>\n      <td>NaN</td>\n      <td>محصول</td>\n      <td>NaN</td>\n      <td>سطح‏</td>\n      <td>NaN</td>\n      <td>NaN</td>\n      <td>NaN</td>\n      <td>شهرستان</td>\n      <td>محصول</td>\n      <td>سطح‏ کشت</td>\n      <td>NaN</td>\n      <td>NaN</td>\n    </tr>\n    <tr>\n      <td>1</td>\n      <td>نام</td>\n      <td>کد</td>\n      <td>استان</td>\n      <td>شهرستان</td>\n      <td>نام</td>\n      <td>کد</td>\n      <td>آبى‏</td>\n      <td>ديم‏</td>\n      <td>جمع‏</td>\n      <td>NaN</td>\n      <td>نام</td>\n      <td>نام</td>\n      <td>آبى‏</td>\n      <td>ديم‏</td>\n      <td>جمع‏</td>\n    </tr>\n    <tr>\n      <td>2</td>\n      <td>مرکزى‏</td>\n      <td>0</td>\n      <td>0</td>\n      <td>0</td>\n      <td>گندم‏</td>\n      <td>102</td>\n      <td>65000.5</td>\n      <td>145001</td>\n      <td>210002</td>\n      <td>استان</td>\n      <td>مرکزى‏</td>\n      <td>گندم‏</td>\n      <td>NaN</td>\n      <td>NaN</td>\n      <td>NaN</td>\n    </tr>\n    <tr>\n      <td>3</td>\n      <td>مرکزى‏</td>\n      <td>0</td>\n      <td>0</td>\n      <td>0</td>\n      <td>جو</td>\n      <td>104</td>\n      <td>39506.9</td>\n      <td>11841</td>\n      <td>51347.9</td>\n      <td>استان</td>\n      <td>مرکزى‏</td>\n      <td>جو</td>\n      <td>NaN</td>\n      <td>NaN</td>\n      <td>NaN</td>\n    </tr>\n    <tr>\n      <td>4</td>\n      <td>مرکزى‏</td>\n      <td>0</td>\n      <td>0</td>\n      <td>0</td>\n      <td>کل محصولات</td>\n      <td>199</td>\n      <td>164781</td>\n      <td>165650</td>\n      <td>330431</td>\n      <td>استان</td>\n      <td>مرکزى‏</td>\n      <td>کل محصولات</td>\n      <td>NaN</td>\n      <td>NaN</td>\n      <td>NaN</td>\n    </tr>\n    <tr>\n      <td>...</td>\n      <td>...</td>\n      <td>...</td>\n      <td>...</td>\n      <td>...</td>\n      <td>...</td>\n      <td>...</td>\n      <td>...</td>\n      <td>...</td>\n      <td>...</td>\n      <td>...</td>\n      <td>...</td>\n      <td>...</td>\n      <td>...</td>\n      <td>...</td>\n      <td>...</td>\n    </tr>\n    <tr>\n      <td>1337</td>\n      <td>کل‏ کشور</td>\n      <td>9900</td>\n      <td>99</td>\n      <td>0</td>\n      <td>گندم‏</td>\n      <td>102</td>\n      <td>2.25571e+06</td>\n      <td>3.80554e+06</td>\n      <td>6.06125e+06</td>\n      <td>NaN</td>\n      <td>کل‏ کشور</td>\n      <td>گندم‏</td>\n      <td>NaN</td>\n      <td>NaN</td>\n      <td>NaN</td>\n    </tr>\n    <tr>\n      <td>1338</td>\n      <td>کل‏ کشور</td>\n      <td>9900</td>\n      <td>99</td>\n      <td>0</td>\n      <td>جو</td>\n      <td>104</td>\n      <td>710134</td>\n      <td>1.00293e+06</td>\n      <td>1.71306e+06</td>\n      <td>NaN</td>\n      <td>کل‏ کشور</td>\n      <td>جو</td>\n      <td>NaN</td>\n      <td>NaN</td>\n      <td>NaN</td>\n    </tr>\n    <tr>\n      <td>1339</td>\n      <td>کل‏ کشور</td>\n      <td>9900</td>\n      <td>99</td>\n      <td>0</td>\n      <td>کل محصولات</td>\n      <td>199</td>\n      <td>6.13242e+06</td>\n      <td>5705487</td>\n      <td>1.18379e+07</td>\n      <td>NaN</td>\n      <td>کل‏ کشور</td>\n      <td>کل محصولات</td>\n      <td>NaN</td>\n      <td>NaN</td>\n      <td>NaN</td>\n    </tr>\n    <tr>\n      <td>1340</td>\n      <td>NaN</td>\n      <td>NaN</td>\n      <td>NaN</td>\n      <td>NaN</td>\n      <td>NaN</td>\n      <td>NaN</td>\n      <td>NaN</td>\n      <td>NaN</td>\n      <td>NaN</td>\n      <td>NaN</td>\n      <td>NaN</td>\n      <td>NaN</td>\n      <td>NaN</td>\n      <td>NaN</td>\n      <td>NaN</td>\n    </tr>\n    <tr>\n      <td>1341</td>\n      <td>NaN</td>\n      <td>NaN</td>\n      <td>NaN</td>\n      <td>NaN</td>\n      <td>NaN</td>\n      <td>NaN</td>\n      <td>NaN</td>\n      <td>NaN</td>\n      <td>11057.9</td>\n      <td>NaN</td>\n      <td>NaN</td>\n      <td>NaN</td>\n      <td>NaN</td>\n      <td>NaN</td>\n      <td>NaN</td>\n    </tr>\n  </tbody>\n</table>\n<p>1342 rows × 15 columns</p>\n</div>"
     },
     "metadata": {},
     "execution_count": 48
    }
   ],
   "source": [
    "df_source=pd.read_excel('خلاصه.xlsx')\n",
    "df_source"
   ]
  },
  {
   "cell_type": "code",
   "execution_count": 56,
   "metadata": {},
   "outputs": [
    {
     "output_type": "error",
     "ename": "KeyError",
     "evalue": "'[0] not found in axis'",
     "traceback": [
      "\u001b[1;31m---------------------------------------------------------------------------\u001b[0m",
      "\u001b[1;31mKeyError\u001b[0m                                  Traceback (most recent call last)",
      "\u001b[1;32m<ipython-input-56-112475a05bcb>\u001b[0m in \u001b[0;36m<module>\u001b[1;34m\u001b[0m\n\u001b[1;32m----> 1\u001b[1;33m \u001b[0mdf_source\u001b[0m\u001b[1;33m.\u001b[0m\u001b[0mdrop\u001b[0m\u001b[1;33m(\u001b[0m\u001b[1;33m[\u001b[0m\u001b[1;36m0\u001b[0m\u001b[1;33m]\u001b[0m\u001b[1;33m,\u001b[0m \u001b[0minplace\u001b[0m\u001b[1;33m=\u001b[0m\u001b[1;32mTrue\u001b[0m\u001b[1;33m)\u001b[0m\u001b[1;33m\u001b[0m\u001b[1;33m\u001b[0m\u001b[0m\n\u001b[0m\u001b[0;32m      2\u001b[0m \u001b[0mdf_source\u001b[0m\u001b[1;33m.\u001b[0m\u001b[0mcolumns\u001b[0m\u001b[1;33m=\u001b[0m\u001b[0mdf_source\u001b[0m\u001b[1;33m.\u001b[0m\u001b[0miloc\u001b[0m\u001b[1;33m[\u001b[0m\u001b[1;36m0\u001b[0m\u001b[1;33m]\u001b[0m\u001b[1;33m\u001b[0m\u001b[1;33m\u001b[0m\u001b[0m\n",
      "\u001b[1;32m~\\Anaconda3\\lib\\site-packages\\pandas\\core\\frame.py\u001b[0m in \u001b[0;36mdrop\u001b[1;34m(self, labels, axis, index, columns, level, inplace, errors)\u001b[0m\n\u001b[0;32m   4100\u001b[0m             \u001b[0mlevel\u001b[0m\u001b[1;33m=\u001b[0m\u001b[0mlevel\u001b[0m\u001b[1;33m,\u001b[0m\u001b[1;33m\u001b[0m\u001b[1;33m\u001b[0m\u001b[0m\n\u001b[0;32m   4101\u001b[0m             \u001b[0minplace\u001b[0m\u001b[1;33m=\u001b[0m\u001b[0minplace\u001b[0m\u001b[1;33m,\u001b[0m\u001b[1;33m\u001b[0m\u001b[1;33m\u001b[0m\u001b[0m\n\u001b[1;32m-> 4102\u001b[1;33m             \u001b[0merrors\u001b[0m\u001b[1;33m=\u001b[0m\u001b[0merrors\u001b[0m\u001b[1;33m,\u001b[0m\u001b[1;33m\u001b[0m\u001b[1;33m\u001b[0m\u001b[0m\n\u001b[0m\u001b[0;32m   4103\u001b[0m         )\n\u001b[0;32m   4104\u001b[0m \u001b[1;33m\u001b[0m\u001b[0m\n",
      "\u001b[1;32m~\\Anaconda3\\lib\\site-packages\\pandas\\core\\generic.py\u001b[0m in \u001b[0;36mdrop\u001b[1;34m(self, labels, axis, index, columns, level, inplace, errors)\u001b[0m\n\u001b[0;32m   3912\u001b[0m         \u001b[1;32mfor\u001b[0m \u001b[0maxis\u001b[0m\u001b[1;33m,\u001b[0m \u001b[0mlabels\u001b[0m \u001b[1;32min\u001b[0m \u001b[0maxes\u001b[0m\u001b[1;33m.\u001b[0m\u001b[0mitems\u001b[0m\u001b[1;33m(\u001b[0m\u001b[1;33m)\u001b[0m\u001b[1;33m:\u001b[0m\u001b[1;33m\u001b[0m\u001b[1;33m\u001b[0m\u001b[0m\n\u001b[0;32m   3913\u001b[0m             \u001b[1;32mif\u001b[0m \u001b[0mlabels\u001b[0m \u001b[1;32mis\u001b[0m \u001b[1;32mnot\u001b[0m \u001b[1;32mNone\u001b[0m\u001b[1;33m:\u001b[0m\u001b[1;33m\u001b[0m\u001b[1;33m\u001b[0m\u001b[0m\n\u001b[1;32m-> 3914\u001b[1;33m                 \u001b[0mobj\u001b[0m \u001b[1;33m=\u001b[0m \u001b[0mobj\u001b[0m\u001b[1;33m.\u001b[0m\u001b[0m_drop_axis\u001b[0m\u001b[1;33m(\u001b[0m\u001b[0mlabels\u001b[0m\u001b[1;33m,\u001b[0m \u001b[0maxis\u001b[0m\u001b[1;33m,\u001b[0m \u001b[0mlevel\u001b[0m\u001b[1;33m=\u001b[0m\u001b[0mlevel\u001b[0m\u001b[1;33m,\u001b[0m \u001b[0merrors\u001b[0m\u001b[1;33m=\u001b[0m\u001b[0merrors\u001b[0m\u001b[1;33m)\u001b[0m\u001b[1;33m\u001b[0m\u001b[1;33m\u001b[0m\u001b[0m\n\u001b[0m\u001b[0;32m   3915\u001b[0m \u001b[1;33m\u001b[0m\u001b[0m\n\u001b[0;32m   3916\u001b[0m         \u001b[1;32mif\u001b[0m \u001b[0minplace\u001b[0m\u001b[1;33m:\u001b[0m\u001b[1;33m\u001b[0m\u001b[1;33m\u001b[0m\u001b[0m\n",
      "\u001b[1;32m~\\Anaconda3\\lib\\site-packages\\pandas\\core\\generic.py\u001b[0m in \u001b[0;36m_drop_axis\u001b[1;34m(self, labels, axis, level, errors)\u001b[0m\n\u001b[0;32m   3944\u001b[0m                 \u001b[0mnew_axis\u001b[0m \u001b[1;33m=\u001b[0m \u001b[0maxis\u001b[0m\u001b[1;33m.\u001b[0m\u001b[0mdrop\u001b[0m\u001b[1;33m(\u001b[0m\u001b[0mlabels\u001b[0m\u001b[1;33m,\u001b[0m \u001b[0mlevel\u001b[0m\u001b[1;33m=\u001b[0m\u001b[0mlevel\u001b[0m\u001b[1;33m,\u001b[0m \u001b[0merrors\u001b[0m\u001b[1;33m=\u001b[0m\u001b[0merrors\u001b[0m\u001b[1;33m)\u001b[0m\u001b[1;33m\u001b[0m\u001b[1;33m\u001b[0m\u001b[0m\n\u001b[0;32m   3945\u001b[0m             \u001b[1;32melse\u001b[0m\u001b[1;33m:\u001b[0m\u001b[1;33m\u001b[0m\u001b[1;33m\u001b[0m\u001b[0m\n\u001b[1;32m-> 3946\u001b[1;33m                 \u001b[0mnew_axis\u001b[0m \u001b[1;33m=\u001b[0m \u001b[0maxis\u001b[0m\u001b[1;33m.\u001b[0m\u001b[0mdrop\u001b[0m\u001b[1;33m(\u001b[0m\u001b[0mlabels\u001b[0m\u001b[1;33m,\u001b[0m \u001b[0merrors\u001b[0m\u001b[1;33m=\u001b[0m\u001b[0merrors\u001b[0m\u001b[1;33m)\u001b[0m\u001b[1;33m\u001b[0m\u001b[1;33m\u001b[0m\u001b[0m\n\u001b[0m\u001b[0;32m   3947\u001b[0m             \u001b[0mresult\u001b[0m \u001b[1;33m=\u001b[0m \u001b[0mself\u001b[0m\u001b[1;33m.\u001b[0m\u001b[0mreindex\u001b[0m\u001b[1;33m(\u001b[0m\u001b[1;33m**\u001b[0m\u001b[1;33m{\u001b[0m\u001b[0maxis_name\u001b[0m\u001b[1;33m:\u001b[0m \u001b[0mnew_axis\u001b[0m\u001b[1;33m}\u001b[0m\u001b[1;33m)\u001b[0m\u001b[1;33m\u001b[0m\u001b[1;33m\u001b[0m\u001b[0m\n\u001b[0;32m   3948\u001b[0m \u001b[1;33m\u001b[0m\u001b[0m\n",
      "\u001b[1;32m~\\Anaconda3\\lib\\site-packages\\pandas\\core\\indexes\\base.py\u001b[0m in \u001b[0;36mdrop\u001b[1;34m(self, labels, errors)\u001b[0m\n\u001b[0;32m   5338\u001b[0m         \u001b[1;32mif\u001b[0m \u001b[0mmask\u001b[0m\u001b[1;33m.\u001b[0m\u001b[0many\u001b[0m\u001b[1;33m(\u001b[0m\u001b[1;33m)\u001b[0m\u001b[1;33m:\u001b[0m\u001b[1;33m\u001b[0m\u001b[1;33m\u001b[0m\u001b[0m\n\u001b[0;32m   5339\u001b[0m             \u001b[1;32mif\u001b[0m \u001b[0merrors\u001b[0m \u001b[1;33m!=\u001b[0m \u001b[1;34m\"ignore\"\u001b[0m\u001b[1;33m:\u001b[0m\u001b[1;33m\u001b[0m\u001b[1;33m\u001b[0m\u001b[0m\n\u001b[1;32m-> 5340\u001b[1;33m                 \u001b[1;32mraise\u001b[0m \u001b[0mKeyError\u001b[0m\u001b[1;33m(\u001b[0m\u001b[1;34m\"{} not found in axis\"\u001b[0m\u001b[1;33m.\u001b[0m\u001b[0mformat\u001b[0m\u001b[1;33m(\u001b[0m\u001b[0mlabels\u001b[0m\u001b[1;33m[\u001b[0m\u001b[0mmask\u001b[0m\u001b[1;33m]\u001b[0m\u001b[1;33m)\u001b[0m\u001b[1;33m)\u001b[0m\u001b[1;33m\u001b[0m\u001b[1;33m\u001b[0m\u001b[0m\n\u001b[0m\u001b[0;32m   5341\u001b[0m             \u001b[0mindexer\u001b[0m \u001b[1;33m=\u001b[0m \u001b[0mindexer\u001b[0m\u001b[1;33m[\u001b[0m\u001b[1;33m~\u001b[0m\u001b[0mmask\u001b[0m\u001b[1;33m]\u001b[0m\u001b[1;33m\u001b[0m\u001b[1;33m\u001b[0m\u001b[0m\n\u001b[0;32m   5342\u001b[0m         \u001b[1;32mreturn\u001b[0m \u001b[0mself\u001b[0m\u001b[1;33m.\u001b[0m\u001b[0mdelete\u001b[0m\u001b[1;33m(\u001b[0m\u001b[0mindexer\u001b[0m\u001b[1;33m)\u001b[0m\u001b[1;33m\u001b[0m\u001b[1;33m\u001b[0m\u001b[0m\n",
      "\u001b[1;31mKeyError\u001b[0m: '[0] not found in axis'"
     ]
    }
   ],
   "source": [
    "df_source.drop([0], inplace=True)\n"
   ]
  },
  {
   "cell_type": "code",
   "execution_count": 59,
   "metadata": {},
   "outputs": [],
   "source": [
    "df_source.columns=df_source.iloc[0]\n",
    "df_source.drop([1], inplace=True)"
   ]
  },
  {
   "cell_type": "code",
   "execution_count": 60,
   "metadata": {},
   "outputs": [
    {
     "output_type": "execute_result",
     "data": {
      "text/plain": [
       "1          نام    کد استان شهرستان         نام   کد         آبى‏         ديم‏  \\\n",
       "2       مرکزى‏     0     0       0       گندم‏  102      65000.5       145001   \n",
       "3       مرکزى‏     0     0       0          جو  104      39506.9        11841   \n",
       "4       مرکزى‏     0     0       0  کل محصولات  199       164781       165650   \n",
       "5        ا‏راک     1     0       1       گندم‏  102       9051.2      17268.1   \n",
       "6        ا‏راک     1     0       1          جو  104       7870.8        974.6   \n",
       "...        ...   ...   ...     ...         ...  ...          ...          ...   \n",
       "1337  کل‏ کشور  9900    99       0       گندم‏  102  2.25571e+06  3.80554e+06   \n",
       "1338  کل‏ کشور  9900    99       0          جو  104       710134  1.00293e+06   \n",
       "1339  کل‏ کشور  9900    99       0  کل محصولات  199  6.13242e+06      5705487   \n",
       "1340       NaN   NaN   NaN     NaN         NaN  NaN          NaN          NaN   \n",
       "1341       NaN   NaN   NaN     NaN         NaN  NaN          NaN          NaN   \n",
       "\n",
       "1            جمع‏      NaN       نام         نام آبى‏ ديم‏ جمع‏  \n",
       "2          210002    استان    مرکزى‏       گندم‏  NaN  NaN  NaN  \n",
       "3         51347.9    استان    مرکزى‏          جو  NaN  NaN  NaN  \n",
       "4          330431    استان    مرکزى‏  کل محصولات  NaN  NaN  NaN  \n",
       "5         26319.3  شهرستان     ا‏راک       گندم‏  NaN  NaN  NaN  \n",
       "6          8845.4  شهرستان     ا‏راک          جو  NaN  NaN  NaN  \n",
       "...           ...      ...       ...         ...  ...  ...  ...  \n",
       "1337  6.06125e+06      NaN  کل‏ کشور       گندم‏  NaN  NaN  NaN  \n",
       "1338  1.71306e+06      NaN  کل‏ کشور          جو  NaN  NaN  NaN  \n",
       "1339  1.18379e+07      NaN  کل‏ کشور  کل محصولات  NaN  NaN  NaN  \n",
       "1340          NaN      NaN       NaN         NaN  NaN  NaN  NaN  \n",
       "1341      11057.9      NaN       NaN         NaN  NaN  NaN  NaN  \n",
       "\n",
       "[1340 rows x 15 columns]"
      ],
      "text/html": "<div>\n<style scoped>\n    .dataframe tbody tr th:only-of-type {\n        vertical-align: middle;\n    }\n\n    .dataframe tbody tr th {\n        vertical-align: top;\n    }\n\n    .dataframe thead th {\n        text-align: right;\n    }\n</style>\n<table border=\"1\" class=\"dataframe\">\n  <thead>\n    <tr style=\"text-align: right;\">\n      <th>1</th>\n      <th>نام</th>\n      <th>کد</th>\n      <th>استان</th>\n      <th>شهرستان</th>\n      <th>نام</th>\n      <th>کد</th>\n      <th>آبى‏</th>\n      <th>ديم‏</th>\n      <th>جمع‏</th>\n      <th>NaN</th>\n      <th>نام</th>\n      <th>نام</th>\n      <th>آبى‏</th>\n      <th>ديم‏</th>\n      <th>جمع‏</th>\n    </tr>\n  </thead>\n  <tbody>\n    <tr>\n      <td>2</td>\n      <td>مرکزى‏</td>\n      <td>0</td>\n      <td>0</td>\n      <td>0</td>\n      <td>گندم‏</td>\n      <td>102</td>\n      <td>65000.5</td>\n      <td>145001</td>\n      <td>210002</td>\n      <td>استان</td>\n      <td>مرکزى‏</td>\n      <td>گندم‏</td>\n      <td>NaN</td>\n      <td>NaN</td>\n      <td>NaN</td>\n    </tr>\n    <tr>\n      <td>3</td>\n      <td>مرکزى‏</td>\n      <td>0</td>\n      <td>0</td>\n      <td>0</td>\n      <td>جو</td>\n      <td>104</td>\n      <td>39506.9</td>\n      <td>11841</td>\n      <td>51347.9</td>\n      <td>استان</td>\n      <td>مرکزى‏</td>\n      <td>جو</td>\n      <td>NaN</td>\n      <td>NaN</td>\n      <td>NaN</td>\n    </tr>\n    <tr>\n      <td>4</td>\n      <td>مرکزى‏</td>\n      <td>0</td>\n      <td>0</td>\n      <td>0</td>\n      <td>کل محصولات</td>\n      <td>199</td>\n      <td>164781</td>\n      <td>165650</td>\n      <td>330431</td>\n      <td>استان</td>\n      <td>مرکزى‏</td>\n      <td>کل محصولات</td>\n      <td>NaN</td>\n      <td>NaN</td>\n      <td>NaN</td>\n    </tr>\n    <tr>\n      <td>5</td>\n      <td>ا‏راک</td>\n      <td>1</td>\n      <td>0</td>\n      <td>1</td>\n      <td>گندم‏</td>\n      <td>102</td>\n      <td>9051.2</td>\n      <td>17268.1</td>\n      <td>26319.3</td>\n      <td>شهرستان</td>\n      <td>ا‏راک</td>\n      <td>گندم‏</td>\n      <td>NaN</td>\n      <td>NaN</td>\n      <td>NaN</td>\n    </tr>\n    <tr>\n      <td>6</td>\n      <td>ا‏راک</td>\n      <td>1</td>\n      <td>0</td>\n      <td>1</td>\n      <td>جو</td>\n      <td>104</td>\n      <td>7870.8</td>\n      <td>974.6</td>\n      <td>8845.4</td>\n      <td>شهرستان</td>\n      <td>ا‏راک</td>\n      <td>جو</td>\n      <td>NaN</td>\n      <td>NaN</td>\n      <td>NaN</td>\n    </tr>\n    <tr>\n      <td>...</td>\n      <td>...</td>\n      <td>...</td>\n      <td>...</td>\n      <td>...</td>\n      <td>...</td>\n      <td>...</td>\n      <td>...</td>\n      <td>...</td>\n      <td>...</td>\n      <td>...</td>\n      <td>...</td>\n      <td>...</td>\n      <td>...</td>\n      <td>...</td>\n      <td>...</td>\n    </tr>\n    <tr>\n      <td>1337</td>\n      <td>کل‏ کشور</td>\n      <td>9900</td>\n      <td>99</td>\n      <td>0</td>\n      <td>گندم‏</td>\n      <td>102</td>\n      <td>2.25571e+06</td>\n      <td>3.80554e+06</td>\n      <td>6.06125e+06</td>\n      <td>NaN</td>\n      <td>کل‏ کشور</td>\n      <td>گندم‏</td>\n      <td>NaN</td>\n      <td>NaN</td>\n      <td>NaN</td>\n    </tr>\n    <tr>\n      <td>1338</td>\n      <td>کل‏ کشور</td>\n      <td>9900</td>\n      <td>99</td>\n      <td>0</td>\n      <td>جو</td>\n      <td>104</td>\n      <td>710134</td>\n      <td>1.00293e+06</td>\n      <td>1.71306e+06</td>\n      <td>NaN</td>\n      <td>کل‏ کشور</td>\n      <td>جو</td>\n      <td>NaN</td>\n      <td>NaN</td>\n      <td>NaN</td>\n    </tr>\n    <tr>\n      <td>1339</td>\n      <td>کل‏ کشور</td>\n      <td>9900</td>\n      <td>99</td>\n      <td>0</td>\n      <td>کل محصولات</td>\n      <td>199</td>\n      <td>6.13242e+06</td>\n      <td>5705487</td>\n      <td>1.18379e+07</td>\n      <td>NaN</td>\n      <td>کل‏ کشور</td>\n      <td>کل محصولات</td>\n      <td>NaN</td>\n      <td>NaN</td>\n      <td>NaN</td>\n    </tr>\n    <tr>\n      <td>1340</td>\n      <td>NaN</td>\n      <td>NaN</td>\n      <td>NaN</td>\n      <td>NaN</td>\n      <td>NaN</td>\n      <td>NaN</td>\n      <td>NaN</td>\n      <td>NaN</td>\n      <td>NaN</td>\n      <td>NaN</td>\n      <td>NaN</td>\n      <td>NaN</td>\n      <td>NaN</td>\n      <td>NaN</td>\n      <td>NaN</td>\n    </tr>\n    <tr>\n      <td>1341</td>\n      <td>NaN</td>\n      <td>NaN</td>\n      <td>NaN</td>\n      <td>NaN</td>\n      <td>NaN</td>\n      <td>NaN</td>\n      <td>NaN</td>\n      <td>NaN</td>\n      <td>11057.9</td>\n      <td>NaN</td>\n      <td>NaN</td>\n      <td>NaN</td>\n      <td>NaN</td>\n      <td>NaN</td>\n      <td>NaN</td>\n    </tr>\n  </tbody>\n</table>\n<p>1340 rows × 15 columns</p>\n</div>"
     },
     "metadata": {},
     "execution_count": 60
    }
   ],
   "source": [
    "df_source"
   ]
  },
  {
   "cell_type": "code",
   "execution_count": 72,
   "metadata": {},
   "outputs": [],
   "source": [
    "#df_source['کلید']=\n",
    "df_source['کلید']=df_source.iloc[:,[10]]+df_source.iloc[:,[11]]"
   ]
  },
  {
   "cell_type": "code",
   "execution_count": 73,
   "metadata": {},
   "outputs": [
    {
     "output_type": "execute_result",
     "data": {
      "text/plain": [
       "1     نام کد استان شهرستان         نام   کد     آبى‏     ديم‏     جمع‏  \\\n",
       "2  مرکزى‏  0     0       0       گندم‏  102  65000.5   145001   210002   \n",
       "3  مرکزى‏  0     0       0          جو  104  39506.9    11841  51347.9   \n",
       "4  مرکزى‏  0     0       0  کل محصولات  199   164781   165650   330431   \n",
       "5   ا‏راک  1     0       1       گندم‏  102   9051.2  17268.1  26319.3   \n",
       "6   ا‏راک  1     0       1          جو  104   7870.8    974.6   8845.4   \n",
       "\n",
       "1      NaN     نام         نام آبى‏ ديم‏ جمع‏              کلید  \n",
       "2    استان  مرکزى‏       گندم‏  NaN  NaN  NaN       مرکزى‏گندم‏  \n",
       "3    استان  مرکزى‏          جو  NaN  NaN  NaN          مرکزى‏جو  \n",
       "4    استان  مرکزى‏  کل محصولات  NaN  NaN  NaN  مرکزى‏کل محصولات  \n",
       "5  شهرستان   ا‏راک       گندم‏  NaN  NaN  NaN        ا‏راکگندم‏  \n",
       "6  شهرستان   ا‏راک          جو  NaN  NaN  NaN           ا‏راکجو  "
      ],
      "text/html": "<div>\n<style scoped>\n    .dataframe tbody tr th:only-of-type {\n        vertical-align: middle;\n    }\n\n    .dataframe tbody tr th {\n        vertical-align: top;\n    }\n\n    .dataframe thead th {\n        text-align: right;\n    }\n</style>\n<table border=\"1\" class=\"dataframe\">\n  <thead>\n    <tr style=\"text-align: right;\">\n      <th>1</th>\n      <th>نام</th>\n      <th>کد</th>\n      <th>استان</th>\n      <th>شهرستان</th>\n      <th>نام</th>\n      <th>کد</th>\n      <th>آبى‏</th>\n      <th>ديم‏</th>\n      <th>جمع‏</th>\n      <th>NaN</th>\n      <th>نام</th>\n      <th>نام</th>\n      <th>آبى‏</th>\n      <th>ديم‏</th>\n      <th>جمع‏</th>\n      <th>کلید</th>\n    </tr>\n  </thead>\n  <tbody>\n    <tr>\n      <td>2</td>\n      <td>مرکزى‏</td>\n      <td>0</td>\n      <td>0</td>\n      <td>0</td>\n      <td>گندم‏</td>\n      <td>102</td>\n      <td>65000.5</td>\n      <td>145001</td>\n      <td>210002</td>\n      <td>استان</td>\n      <td>مرکزى‏</td>\n      <td>گندم‏</td>\n      <td>NaN</td>\n      <td>NaN</td>\n      <td>NaN</td>\n      <td>مرکزى‏گندم‏</td>\n    </tr>\n    <tr>\n      <td>3</td>\n      <td>مرکزى‏</td>\n      <td>0</td>\n      <td>0</td>\n      <td>0</td>\n      <td>جو</td>\n      <td>104</td>\n      <td>39506.9</td>\n      <td>11841</td>\n      <td>51347.9</td>\n      <td>استان</td>\n      <td>مرکزى‏</td>\n      <td>جو</td>\n      <td>NaN</td>\n      <td>NaN</td>\n      <td>NaN</td>\n      <td>مرکزى‏جو</td>\n    </tr>\n    <tr>\n      <td>4</td>\n      <td>مرکزى‏</td>\n      <td>0</td>\n      <td>0</td>\n      <td>0</td>\n      <td>کل محصولات</td>\n      <td>199</td>\n      <td>164781</td>\n      <td>165650</td>\n      <td>330431</td>\n      <td>استان</td>\n      <td>مرکزى‏</td>\n      <td>کل محصولات</td>\n      <td>NaN</td>\n      <td>NaN</td>\n      <td>NaN</td>\n      <td>مرکزى‏کل محصولات</td>\n    </tr>\n    <tr>\n      <td>5</td>\n      <td>ا‏راک</td>\n      <td>1</td>\n      <td>0</td>\n      <td>1</td>\n      <td>گندم‏</td>\n      <td>102</td>\n      <td>9051.2</td>\n      <td>17268.1</td>\n      <td>26319.3</td>\n      <td>شهرستان</td>\n      <td>ا‏راک</td>\n      <td>گندم‏</td>\n      <td>NaN</td>\n      <td>NaN</td>\n      <td>NaN</td>\n      <td>ا‏راکگندم‏</td>\n    </tr>\n    <tr>\n      <td>6</td>\n      <td>ا‏راک</td>\n      <td>1</td>\n      <td>0</td>\n      <td>1</td>\n      <td>جو</td>\n      <td>104</td>\n      <td>7870.8</td>\n      <td>974.6</td>\n      <td>8845.4</td>\n      <td>شهرستان</td>\n      <td>ا‏راک</td>\n      <td>جو</td>\n      <td>NaN</td>\n      <td>NaN</td>\n      <td>NaN</td>\n      <td>ا‏راکجو</td>\n    </tr>\n  </tbody>\n</table>\n</div>"
     },
     "metadata": {},
     "execution_count": 73
    }
   ],
   "source": [
    "df_source.head()"
   ]
  },
  {
   "cell_type": "code",
   "execution_count": 75,
   "metadata": {},
   "outputs": [
    {
     "output_type": "execute_result",
     "data": {
      "text/plain": [
       "1                        نام    کد استان شهرستان         نام   کد  \\\n",
       "کلید                                                                \n",
       "مرکزى‏گندم‏           مرکزى‏     0     0       0       گندم‏  102   \n",
       "مرکزى‏جو              مرکزى‏     0     0       0          جو  104   \n",
       "مرکزى‏کل محصولات      مرکزى‏     0     0       0  کل محصولات  199   \n",
       "ا‏راکگندم‏             ا‏راک     1     0       1       گندم‏  102   \n",
       "ا‏راکجو                ا‏راک     1     0       1          جو  104   \n",
       "...                      ...   ...   ...     ...         ...  ...   \n",
       "کل‏ کشورگندم‏       کل‏ کشور  9900    99       0       گندم‏  102   \n",
       "کل‏ کشورجو          کل‏ کشور  9900    99       0          جو  104   \n",
       "کل‏ کشورکل محصولات  کل‏ کشور  9900    99       0  کل محصولات  199   \n",
       "NaN                      NaN   NaN   NaN     NaN         NaN  NaN   \n",
       "NaN                      NaN   NaN   NaN     NaN         NaN  NaN   \n",
       "\n",
       "1                          آبى‏         ديم‏         جمع‏      NaN       نام  \\\n",
       "کلید                                                                           \n",
       "مرکزى‏گندم‏             65000.5       145001       210002    استان    مرکزى‏   \n",
       "مرکزى‏جو                39506.9        11841      51347.9    استان    مرکزى‏   \n",
       "مرکزى‏کل محصولات         164781       165650       330431    استان    مرکزى‏   \n",
       "ا‏راکگندم‏               9051.2      17268.1      26319.3  شهرستان     ا‏راک   \n",
       "ا‏راکجو                  7870.8        974.6       8845.4  شهرستان     ا‏راک   \n",
       "...                         ...          ...          ...      ...       ...   \n",
       "کل‏ کشورگندم‏       2.25571e+06  3.80554e+06  6.06125e+06      NaN  کل‏ کشور   \n",
       "کل‏ کشورجو               710134  1.00293e+06  1.71306e+06      NaN  کل‏ کشور   \n",
       "کل‏ کشورکل محصولات  6.13242e+06      5705487  1.18379e+07      NaN  کل‏ کشور   \n",
       "NaN                         NaN          NaN          NaN      NaN       NaN   \n",
       "NaN                         NaN          NaN      11057.9      NaN       NaN   \n",
       "\n",
       "1                          نام آبى‏ ديم‏ جمع‏  \n",
       "کلید                                           \n",
       "مرکزى‏گندم‏              گندم‏  NaN  NaN  NaN  \n",
       "مرکزى‏جو                    جو  NaN  NaN  NaN  \n",
       "مرکزى‏کل محصولات    کل محصولات  NaN  NaN  NaN  \n",
       "ا‏راکگندم‏               گندم‏  NaN  NaN  NaN  \n",
       "ا‏راکجو                     جو  NaN  NaN  NaN  \n",
       "...                        ...  ...  ...  ...  \n",
       "کل‏ کشورگندم‏            گندم‏  NaN  NaN  NaN  \n",
       "کل‏ کشورجو                  جو  NaN  NaN  NaN  \n",
       "کل‏ کشورکل محصولات  کل محصولات  NaN  NaN  NaN  \n",
       "NaN                        NaN  NaN  NaN  NaN  \n",
       "NaN                        NaN  NaN  NaN  NaN  \n",
       "\n",
       "[1340 rows x 15 columns]"
      ],
      "text/html": "<div>\n<style scoped>\n    .dataframe tbody tr th:only-of-type {\n        vertical-align: middle;\n    }\n\n    .dataframe tbody tr th {\n        vertical-align: top;\n    }\n\n    .dataframe thead th {\n        text-align: right;\n    }\n</style>\n<table border=\"1\" class=\"dataframe\">\n  <thead>\n    <tr style=\"text-align: right;\">\n      <th>1</th>\n      <th>نام</th>\n      <th>کد</th>\n      <th>استان</th>\n      <th>شهرستان</th>\n      <th>نام</th>\n      <th>کد</th>\n      <th>آبى‏</th>\n      <th>ديم‏</th>\n      <th>جمع‏</th>\n      <th>NaN</th>\n      <th>نام</th>\n      <th>نام</th>\n      <th>آبى‏</th>\n      <th>ديم‏</th>\n      <th>جمع‏</th>\n    </tr>\n    <tr>\n      <th>کلید</th>\n      <th></th>\n      <th></th>\n      <th></th>\n      <th></th>\n      <th></th>\n      <th></th>\n      <th></th>\n      <th></th>\n      <th></th>\n      <th></th>\n      <th></th>\n      <th></th>\n      <th></th>\n      <th></th>\n      <th></th>\n    </tr>\n  </thead>\n  <tbody>\n    <tr>\n      <td>مرکزى‏گندم‏</td>\n      <td>مرکزى‏</td>\n      <td>0</td>\n      <td>0</td>\n      <td>0</td>\n      <td>گندم‏</td>\n      <td>102</td>\n      <td>65000.5</td>\n      <td>145001</td>\n      <td>210002</td>\n      <td>استان</td>\n      <td>مرکزى‏</td>\n      <td>گندم‏</td>\n      <td>NaN</td>\n      <td>NaN</td>\n      <td>NaN</td>\n    </tr>\n    <tr>\n      <td>مرکزى‏جو</td>\n      <td>مرکزى‏</td>\n      <td>0</td>\n      <td>0</td>\n      <td>0</td>\n      <td>جو</td>\n      <td>104</td>\n      <td>39506.9</td>\n      <td>11841</td>\n      <td>51347.9</td>\n      <td>استان</td>\n      <td>مرکزى‏</td>\n      <td>جو</td>\n      <td>NaN</td>\n      <td>NaN</td>\n      <td>NaN</td>\n    </tr>\n    <tr>\n      <td>مرکزى‏کل محصولات</td>\n      <td>مرکزى‏</td>\n      <td>0</td>\n      <td>0</td>\n      <td>0</td>\n      <td>کل محصولات</td>\n      <td>199</td>\n      <td>164781</td>\n      <td>165650</td>\n      <td>330431</td>\n      <td>استان</td>\n      <td>مرکزى‏</td>\n      <td>کل محصولات</td>\n      <td>NaN</td>\n      <td>NaN</td>\n      <td>NaN</td>\n    </tr>\n    <tr>\n      <td>ا‏راکگندم‏</td>\n      <td>ا‏راک</td>\n      <td>1</td>\n      <td>0</td>\n      <td>1</td>\n      <td>گندم‏</td>\n      <td>102</td>\n      <td>9051.2</td>\n      <td>17268.1</td>\n      <td>26319.3</td>\n      <td>شهرستان</td>\n      <td>ا‏راک</td>\n      <td>گندم‏</td>\n      <td>NaN</td>\n      <td>NaN</td>\n      <td>NaN</td>\n    </tr>\n    <tr>\n      <td>ا‏راکجو</td>\n      <td>ا‏راک</td>\n      <td>1</td>\n      <td>0</td>\n      <td>1</td>\n      <td>جو</td>\n      <td>104</td>\n      <td>7870.8</td>\n      <td>974.6</td>\n      <td>8845.4</td>\n      <td>شهرستان</td>\n      <td>ا‏راک</td>\n      <td>جو</td>\n      <td>NaN</td>\n      <td>NaN</td>\n      <td>NaN</td>\n    </tr>\n    <tr>\n      <td>...</td>\n      <td>...</td>\n      <td>...</td>\n      <td>...</td>\n      <td>...</td>\n      <td>...</td>\n      <td>...</td>\n      <td>...</td>\n      <td>...</td>\n      <td>...</td>\n      <td>...</td>\n      <td>...</td>\n      <td>...</td>\n      <td>...</td>\n      <td>...</td>\n      <td>...</td>\n    </tr>\n    <tr>\n      <td>کل‏ کشورگندم‏</td>\n      <td>کل‏ کشور</td>\n      <td>9900</td>\n      <td>99</td>\n      <td>0</td>\n      <td>گندم‏</td>\n      <td>102</td>\n      <td>2.25571e+06</td>\n      <td>3.80554e+06</td>\n      <td>6.06125e+06</td>\n      <td>NaN</td>\n      <td>کل‏ کشور</td>\n      <td>گندم‏</td>\n      <td>NaN</td>\n      <td>NaN</td>\n      <td>NaN</td>\n    </tr>\n    <tr>\n      <td>کل‏ کشورجو</td>\n      <td>کل‏ کشور</td>\n      <td>9900</td>\n      <td>99</td>\n      <td>0</td>\n      <td>جو</td>\n      <td>104</td>\n      <td>710134</td>\n      <td>1.00293e+06</td>\n      <td>1.71306e+06</td>\n      <td>NaN</td>\n      <td>کل‏ کشور</td>\n      <td>جو</td>\n      <td>NaN</td>\n      <td>NaN</td>\n      <td>NaN</td>\n    </tr>\n    <tr>\n      <td>کل‏ کشورکل محصولات</td>\n      <td>کل‏ کشور</td>\n      <td>9900</td>\n      <td>99</td>\n      <td>0</td>\n      <td>کل محصولات</td>\n      <td>199</td>\n      <td>6.13242e+06</td>\n      <td>5705487</td>\n      <td>1.18379e+07</td>\n      <td>NaN</td>\n      <td>کل‏ کشور</td>\n      <td>کل محصولات</td>\n      <td>NaN</td>\n      <td>NaN</td>\n      <td>NaN</td>\n    </tr>\n    <tr>\n      <td>NaN</td>\n      <td>NaN</td>\n      <td>NaN</td>\n      <td>NaN</td>\n      <td>NaN</td>\n      <td>NaN</td>\n      <td>NaN</td>\n      <td>NaN</td>\n      <td>NaN</td>\n      <td>NaN</td>\n      <td>NaN</td>\n      <td>NaN</td>\n      <td>NaN</td>\n      <td>NaN</td>\n      <td>NaN</td>\n      <td>NaN</td>\n    </tr>\n    <tr>\n      <td>NaN</td>\n      <td>NaN</td>\n      <td>NaN</td>\n      <td>NaN</td>\n      <td>NaN</td>\n      <td>NaN</td>\n      <td>NaN</td>\n      <td>NaN</td>\n      <td>NaN</td>\n      <td>11057.9</td>\n      <td>NaN</td>\n      <td>NaN</td>\n      <td>NaN</td>\n      <td>NaN</td>\n      <td>NaN</td>\n      <td>NaN</td>\n    </tr>\n  </tbody>\n</table>\n<p>1340 rows × 15 columns</p>\n</div>"
     },
     "metadata": {},
     "execution_count": 75
    }
   ],
   "source": [
    "df_source.set_index('کلید', inplace=True)\n",
    "df_source"
   ]
  },
  {
   "cell_type": "code",
   "execution_count": 77,
   "metadata": {},
   "outputs": [],
   "source": [
    "df_pro.set_index('کلید', inplace=True)"
   ]
  },
  {
   "cell_type": "code",
   "execution_count": 87,
   "metadata": {},
   "outputs": [],
   "source": [
    "df_pro.columns=['آبی',    'دیم',    'جمع', 'محصول', 'استان']"
   ]
  },
  {
   "cell_type": "code",
   "execution_count": 88,
   "metadata": {},
   "outputs": [],
   "source": [
    "df_source.columns=[    'استان1',      'کد1',   'استان1', 'شهرستان1',     'محصول1',      '1کد',\n",
    "          'آبى1‏',    'ديم1‏',    'جمع1‏',       'منطقه2',     'استان',     'محصول',\n",
    "          'آبی',    'دیم',    'جمع']"
   ]
  },
  {
   "cell_type": "code",
   "execution_count": 96,
   "metadata": {},
   "outputs": [
    {
     "output_type": "execute_result",
     "data": {
      "text/plain": [
       "                      استان1   کد1 استان1 شهرستان1      محصول1  1کد  \\\n",
       "کلید                                                                  \n",
       "مرکزى‏گندم‏           مرکزى‏     0      0        0       گندم‏  102   \n",
       "مرکزى‏جو              مرکزى‏     0      0        0          جو  104   \n",
       "مرکزى‏کل محصولات      مرکزى‏     0      0        0  کل محصولات  199   \n",
       "ا‏راکگندم‏             ا‏راک     1      0        1       گندم‏  102   \n",
       "ا‏راکجو                ا‏راک     1      0        1          جو  104   \n",
       "...                      ...   ...    ...      ...         ...  ...   \n",
       "کل‏ کشورگندم‏       کل‏ کشور  9900     99        0       گندم‏  102   \n",
       "کل‏ کشورجو          کل‏ کشور  9900     99        0          جو  104   \n",
       "کل‏ کشورکل محصولات  کل‏ کشور  9900     99        0  کل محصولات  199   \n",
       "NaN                      NaN   NaN    NaN      NaN         NaN  NaN   \n",
       "NaN                      NaN   NaN    NaN      NaN         NaN  NaN   \n",
       "\n",
       "                          آبى1‏        ديم1‏        جمع1‏   منطقه2     استان  \\\n",
       "کلید                                                                           \n",
       "مرکزى‏گندم‏             65000.5       145001       210002    استان    مرکزى‏   \n",
       "مرکزى‏جو                39506.9        11841      51347.9    استان    مرکزى‏   \n",
       "مرکزى‏کل محصولات         164781       165650       330431    استان    مرکزى‏   \n",
       "ا‏راکگندم‏               9051.2      17268.1      26319.3  شهرستان     ا‏راک   \n",
       "ا‏راکجو                  7870.8        974.6       8845.4  شهرستان     ا‏راک   \n",
       "...                         ...          ...          ...      ...       ...   \n",
       "کل‏ کشورگندم‏       2.25571e+06  3.80554e+06  6.06125e+06      NaN  کل‏ کشور   \n",
       "کل‏ کشورجو               710134  1.00293e+06  1.71306e+06      NaN  کل‏ کشور   \n",
       "کل‏ کشورکل محصولات  6.13242e+06      5705487  1.18379e+07      NaN  کل‏ کشور   \n",
       "NaN                         NaN          NaN          NaN      NaN       NaN   \n",
       "NaN                         NaN          NaN      11057.9      NaN       NaN   \n",
       "\n",
       "                         محصول  آبی  دیم  جمع  \n",
       "کلید                                           \n",
       "مرکزى‏گندم‏              گندم‏  NaN  NaN  NaN  \n",
       "مرکزى‏جو                    جو  NaN  NaN  NaN  \n",
       "مرکزى‏کل محصولات    کل محصولات  NaN  NaN  NaN  \n",
       "ا‏راکگندم‏               گندم‏  NaN  NaN  NaN  \n",
       "ا‏راکجو                     جو  NaN  NaN  NaN  \n",
       "...                        ...  ...  ...  ...  \n",
       "کل‏ کشورگندم‏            گندم‏  NaN  NaN  NaN  \n",
       "کل‏ کشورجو                  جو  NaN  NaN  NaN  \n",
       "کل‏ کشورکل محصولات  کل محصولات  NaN  NaN  NaN  \n",
       "NaN                        NaN  NaN  NaN  NaN  \n",
       "NaN                        NaN  NaN  NaN  NaN  \n",
       "\n",
       "[1340 rows x 15 columns]"
      ],
      "text/html": "<div>\n<style scoped>\n    .dataframe tbody tr th:only-of-type {\n        vertical-align: middle;\n    }\n\n    .dataframe tbody tr th {\n        vertical-align: top;\n    }\n\n    .dataframe thead th {\n        text-align: right;\n    }\n</style>\n<table border=\"1\" class=\"dataframe\">\n  <thead>\n    <tr style=\"text-align: right;\">\n      <th></th>\n      <th>استان1</th>\n      <th>کد1</th>\n      <th>استان1</th>\n      <th>شهرستان1</th>\n      <th>محصول1</th>\n      <th>1کد</th>\n      <th>آبى1‏</th>\n      <th>ديم1‏</th>\n      <th>جمع1‏</th>\n      <th>منطقه2</th>\n      <th>استان</th>\n      <th>محصول</th>\n      <th>آبی</th>\n      <th>دیم</th>\n      <th>جمع</th>\n    </tr>\n    <tr>\n      <th>کلید</th>\n      <th></th>\n      <th></th>\n      <th></th>\n      <th></th>\n      <th></th>\n      <th></th>\n      <th></th>\n      <th></th>\n      <th></th>\n      <th></th>\n      <th></th>\n      <th></th>\n      <th></th>\n      <th></th>\n      <th></th>\n    </tr>\n  </thead>\n  <tbody>\n    <tr>\n      <td>مرکزى‏گندم‏</td>\n      <td>مرکزى‏</td>\n      <td>0</td>\n      <td>0</td>\n      <td>0</td>\n      <td>گندم‏</td>\n      <td>102</td>\n      <td>65000.5</td>\n      <td>145001</td>\n      <td>210002</td>\n      <td>استان</td>\n      <td>مرکزى‏</td>\n      <td>گندم‏</td>\n      <td>NaN</td>\n      <td>NaN</td>\n      <td>NaN</td>\n    </tr>\n    <tr>\n      <td>مرکزى‏جو</td>\n      <td>مرکزى‏</td>\n      <td>0</td>\n      <td>0</td>\n      <td>0</td>\n      <td>جو</td>\n      <td>104</td>\n      <td>39506.9</td>\n      <td>11841</td>\n      <td>51347.9</td>\n      <td>استان</td>\n      <td>مرکزى‏</td>\n      <td>جو</td>\n      <td>NaN</td>\n      <td>NaN</td>\n      <td>NaN</td>\n    </tr>\n    <tr>\n      <td>مرکزى‏کل محصولات</td>\n      <td>مرکزى‏</td>\n      <td>0</td>\n      <td>0</td>\n      <td>0</td>\n      <td>کل محصولات</td>\n      <td>199</td>\n      <td>164781</td>\n      <td>165650</td>\n      <td>330431</td>\n      <td>استان</td>\n      <td>مرکزى‏</td>\n      <td>کل محصولات</td>\n      <td>NaN</td>\n      <td>NaN</td>\n      <td>NaN</td>\n    </tr>\n    <tr>\n      <td>ا‏راکگندم‏</td>\n      <td>ا‏راک</td>\n      <td>1</td>\n      <td>0</td>\n      <td>1</td>\n      <td>گندم‏</td>\n      <td>102</td>\n      <td>9051.2</td>\n      <td>17268.1</td>\n      <td>26319.3</td>\n      <td>شهرستان</td>\n      <td>ا‏راک</td>\n      <td>گندم‏</td>\n      <td>NaN</td>\n      <td>NaN</td>\n      <td>NaN</td>\n    </tr>\n    <tr>\n      <td>ا‏راکجو</td>\n      <td>ا‏راک</td>\n      <td>1</td>\n      <td>0</td>\n      <td>1</td>\n      <td>جو</td>\n      <td>104</td>\n      <td>7870.8</td>\n      <td>974.6</td>\n      <td>8845.4</td>\n      <td>شهرستان</td>\n      <td>ا‏راک</td>\n      <td>جو</td>\n      <td>NaN</td>\n      <td>NaN</td>\n      <td>NaN</td>\n    </tr>\n    <tr>\n      <td>...</td>\n      <td>...</td>\n      <td>...</td>\n      <td>...</td>\n      <td>...</td>\n      <td>...</td>\n      <td>...</td>\n      <td>...</td>\n      <td>...</td>\n      <td>...</td>\n      <td>...</td>\n      <td>...</td>\n      <td>...</td>\n      <td>...</td>\n      <td>...</td>\n      <td>...</td>\n    </tr>\n    <tr>\n      <td>کل‏ کشورگندم‏</td>\n      <td>کل‏ کشور</td>\n      <td>9900</td>\n      <td>99</td>\n      <td>0</td>\n      <td>گندم‏</td>\n      <td>102</td>\n      <td>2.25571e+06</td>\n      <td>3.80554e+06</td>\n      <td>6.06125e+06</td>\n      <td>NaN</td>\n      <td>کل‏ کشور</td>\n      <td>گندم‏</td>\n      <td>NaN</td>\n      <td>NaN</td>\n      <td>NaN</td>\n    </tr>\n    <tr>\n      <td>کل‏ کشورجو</td>\n      <td>کل‏ کشور</td>\n      <td>9900</td>\n      <td>99</td>\n      <td>0</td>\n      <td>جو</td>\n      <td>104</td>\n      <td>710134</td>\n      <td>1.00293e+06</td>\n      <td>1.71306e+06</td>\n      <td>NaN</td>\n      <td>کل‏ کشور</td>\n      <td>جو</td>\n      <td>NaN</td>\n      <td>NaN</td>\n      <td>NaN</td>\n    </tr>\n    <tr>\n      <td>کل‏ کشورکل محصولات</td>\n      <td>کل‏ کشور</td>\n      <td>9900</td>\n      <td>99</td>\n      <td>0</td>\n      <td>کل محصولات</td>\n      <td>199</td>\n      <td>6.13242e+06</td>\n      <td>5705487</td>\n      <td>1.18379e+07</td>\n      <td>NaN</td>\n      <td>کل‏ کشور</td>\n      <td>کل محصولات</td>\n      <td>NaN</td>\n      <td>NaN</td>\n      <td>NaN</td>\n    </tr>\n    <tr>\n      <td>NaN</td>\n      <td>NaN</td>\n      <td>NaN</td>\n      <td>NaN</td>\n      <td>NaN</td>\n      <td>NaN</td>\n      <td>NaN</td>\n      <td>NaN</td>\n      <td>NaN</td>\n      <td>NaN</td>\n      <td>NaN</td>\n      <td>NaN</td>\n      <td>NaN</td>\n      <td>NaN</td>\n      <td>NaN</td>\n      <td>NaN</td>\n    </tr>\n    <tr>\n      <td>NaN</td>\n      <td>NaN</td>\n      <td>NaN</td>\n      <td>NaN</td>\n      <td>NaN</td>\n      <td>NaN</td>\n      <td>NaN</td>\n      <td>NaN</td>\n      <td>NaN</td>\n      <td>11057.9</td>\n      <td>NaN</td>\n      <td>NaN</td>\n      <td>NaN</td>\n      <td>NaN</td>\n      <td>NaN</td>\n      <td>NaN</td>\n    </tr>\n  </tbody>\n</table>\n<p>1340 rows × 15 columns</p>\n</div>"
     },
     "metadata": {},
     "execution_count": 96
    }
   ],
   "source": [
    "df_source"
   ]
  },
  {
   "cell_type": "code",
   "execution_count": 100,
   "metadata": {},
   "outputs": [],
   "source": [
    "result = pd.merge(df_source, df_pro, left_index=True, right_index=True)"
   ]
  },
  {
   "cell_type": "code",
   "execution_count": 101,
   "metadata": {},
   "outputs": [
    {
     "output_type": "execute_result",
     "data": {
      "text/plain": [
       "Empty DataFrame\n",
       "Columns: [استان1, کد1, استان1, شهرستان1, محصول1, 1کد, آبى1‏, ديم1‏, جمع1‏, منطقه2, استان_x, محصول_x, آبی_x, دیم_x, جمع_x, آبی_y, دیم_y, جمع_y, محصول_y, استان_y]\n",
       "Index: []"
      ],
      "text/html": "<div>\n<style scoped>\n    .dataframe tbody tr th:only-of-type {\n        vertical-align: middle;\n    }\n\n    .dataframe tbody tr th {\n        vertical-align: top;\n    }\n\n    .dataframe thead th {\n        text-align: right;\n    }\n</style>\n<table border=\"1\" class=\"dataframe\">\n  <thead>\n    <tr style=\"text-align: right;\">\n      <th></th>\n      <th>استان1</th>\n      <th>کد1</th>\n      <th>استان1</th>\n      <th>شهرستان1</th>\n      <th>محصول1</th>\n      <th>1کد</th>\n      <th>آبى1‏</th>\n      <th>ديم1‏</th>\n      <th>جمع1‏</th>\n      <th>منطقه2</th>\n      <th>استان_x</th>\n      <th>محصول_x</th>\n      <th>آبی_x</th>\n      <th>دیم_x</th>\n      <th>جمع_x</th>\n      <th>آبی_y</th>\n      <th>دیم_y</th>\n      <th>جمع_y</th>\n      <th>محصول_y</th>\n      <th>استان_y</th>\n    </tr>\n    <tr>\n      <th>کلید</th>\n      <th></th>\n      <th></th>\n      <th></th>\n      <th></th>\n      <th></th>\n      <th></th>\n      <th></th>\n      <th></th>\n      <th></th>\n      <th></th>\n      <th></th>\n      <th></th>\n      <th></th>\n      <th></th>\n      <th></th>\n      <th></th>\n      <th></th>\n      <th></th>\n      <th></th>\n      <th></th>\n    </tr>\n  </thead>\n  <tbody>\n  </tbody>\n</table>\n</div>"
     },
     "metadata": {},
     "execution_count": 101
    }
   ],
   "source": [
    "result"
   ]
  },
  {
   "cell_type": "code",
   "execution_count": 125,
   "metadata": {},
   "outputs": [
    {
     "output_type": "error",
     "ename": "TypeError",
     "evalue": "object of type 'NoneType' has no len()",
     "traceback": [
      "\u001b[1;31m---------------------------------------------------------------------------\u001b[0m",
      "\u001b[1;31mTypeError\u001b[0m                                 Traceback (most recent call last)",
      "\u001b[1;32m<ipython-input-125-f4b3d20b6344>\u001b[0m in \u001b[0;36m<module>\u001b[1;34m\u001b[0m\n\u001b[1;32m----> 1\u001b[1;33m \u001b[0mdf1\u001b[0m\u001b[1;33m=\u001b[0m\u001b[0mdf_source\u001b[0m\u001b[1;33m.\u001b[0m\u001b[0mmerge\u001b[0m\u001b[1;33m(\u001b[0m\u001b[0mdf_pro\u001b[0m\u001b[1;33m,\u001b[0m \u001b[0mleft_on\u001b[0m\u001b[1;33m=\u001b[0m\u001b[0mdf_source\u001b[0m\u001b[1;33m.\u001b[0m\u001b[0mindex\u001b[0m\u001b[1;33m)\u001b[0m\u001b[1;33m\u001b[0m\u001b[1;33m\u001b[0m\u001b[0m\n\u001b[0m",
      "\u001b[1;32m~\\Anaconda3\\lib\\site-packages\\pandas\\core\\frame.py\u001b[0m in \u001b[0;36mmerge\u001b[1;34m(self, right, how, on, left_on, right_on, left_index, right_index, sort, suffixes, copy, indicator, validate)\u001b[0m\n\u001b[0;32m   7332\u001b[0m             \u001b[0mcopy\u001b[0m\u001b[1;33m=\u001b[0m\u001b[0mcopy\u001b[0m\u001b[1;33m,\u001b[0m\u001b[1;33m\u001b[0m\u001b[1;33m\u001b[0m\u001b[0m\n\u001b[0;32m   7333\u001b[0m             \u001b[0mindicator\u001b[0m\u001b[1;33m=\u001b[0m\u001b[0mindicator\u001b[0m\u001b[1;33m,\u001b[0m\u001b[1;33m\u001b[0m\u001b[1;33m\u001b[0m\u001b[0m\n\u001b[1;32m-> 7334\u001b[1;33m             \u001b[0mvalidate\u001b[0m\u001b[1;33m=\u001b[0m\u001b[0mvalidate\u001b[0m\u001b[1;33m,\u001b[0m\u001b[1;33m\u001b[0m\u001b[1;33m\u001b[0m\u001b[0m\n\u001b[0m\u001b[0;32m   7335\u001b[0m         )\n\u001b[0;32m   7336\u001b[0m \u001b[1;33m\u001b[0m\u001b[0m\n",
      "\u001b[1;32m~\\Anaconda3\\lib\\site-packages\\pandas\\core\\reshape\\merge.py\u001b[0m in \u001b[0;36mmerge\u001b[1;34m(left, right, how, on, left_on, right_on, left_index, right_index, sort, suffixes, copy, indicator, validate)\u001b[0m\n\u001b[0;32m     79\u001b[0m         \u001b[0mcopy\u001b[0m\u001b[1;33m=\u001b[0m\u001b[0mcopy\u001b[0m\u001b[1;33m,\u001b[0m\u001b[1;33m\u001b[0m\u001b[1;33m\u001b[0m\u001b[0m\n\u001b[0;32m     80\u001b[0m         \u001b[0mindicator\u001b[0m\u001b[1;33m=\u001b[0m\u001b[0mindicator\u001b[0m\u001b[1;33m,\u001b[0m\u001b[1;33m\u001b[0m\u001b[1;33m\u001b[0m\u001b[0m\n\u001b[1;32m---> 81\u001b[1;33m         \u001b[0mvalidate\u001b[0m\u001b[1;33m=\u001b[0m\u001b[0mvalidate\u001b[0m\u001b[1;33m,\u001b[0m\u001b[1;33m\u001b[0m\u001b[1;33m\u001b[0m\u001b[0m\n\u001b[0m\u001b[0;32m     82\u001b[0m     )\n\u001b[0;32m     83\u001b[0m     \u001b[1;32mreturn\u001b[0m \u001b[0mop\u001b[0m\u001b[1;33m.\u001b[0m\u001b[0mget_result\u001b[0m\u001b[1;33m(\u001b[0m\u001b[1;33m)\u001b[0m\u001b[1;33m\u001b[0m\u001b[1;33m\u001b[0m\u001b[0m\n",
      "\u001b[1;32m~\\Anaconda3\\lib\\site-packages\\pandas\\core\\reshape\\merge.py\u001b[0m in \u001b[0;36m__init__\u001b[1;34m(self, left, right, how, on, left_on, right_on, axis, left_index, right_index, sort, suffixes, copy, indicator, validate)\u001b[0m\n\u001b[0;32m    617\u001b[0m             \u001b[0mwarnings\u001b[0m\u001b[1;33m.\u001b[0m\u001b[0mwarn\u001b[0m\u001b[1;33m(\u001b[0m\u001b[0mmsg\u001b[0m\u001b[1;33m,\u001b[0m \u001b[0mUserWarning\u001b[0m\u001b[1;33m)\u001b[0m\u001b[1;33m\u001b[0m\u001b[1;33m\u001b[0m\u001b[0m\n\u001b[0;32m    618\u001b[0m \u001b[1;33m\u001b[0m\u001b[0m\n\u001b[1;32m--> 619\u001b[1;33m         \u001b[0mself\u001b[0m\u001b[1;33m.\u001b[0m\u001b[0m_validate_specification\u001b[0m\u001b[1;33m(\u001b[0m\u001b[1;33m)\u001b[0m\u001b[1;33m\u001b[0m\u001b[1;33m\u001b[0m\u001b[0m\n\u001b[0m\u001b[0;32m    620\u001b[0m \u001b[1;33m\u001b[0m\u001b[0m\n\u001b[0;32m    621\u001b[0m         \u001b[1;31m# note this function has side effects\u001b[0m\u001b[1;33m\u001b[0m\u001b[1;33m\u001b[0m\u001b[1;33m\u001b[0m\u001b[0m\n",
      "\u001b[1;32m~\\Anaconda3\\lib\\site-packages\\pandas\\core\\reshape\\merge.py\u001b[0m in \u001b[0;36m_validate_specification\u001b[1;34m(self)\u001b[0m\n\u001b[0;32m   1221\u001b[0m                     )\n\u001b[0;32m   1222\u001b[0m                 \u001b[0mself\u001b[0m\u001b[1;33m.\u001b[0m\u001b[0mleft_on\u001b[0m \u001b[1;33m=\u001b[0m \u001b[1;33m[\u001b[0m\u001b[1;32mNone\u001b[0m\u001b[1;33m]\u001b[0m \u001b[1;33m*\u001b[0m \u001b[0mn\u001b[0m\u001b[1;33m\u001b[0m\u001b[1;33m\u001b[0m\u001b[0m\n\u001b[1;32m-> 1223\u001b[1;33m         \u001b[1;32mif\u001b[0m \u001b[0mlen\u001b[0m\u001b[1;33m(\u001b[0m\u001b[0mself\u001b[0m\u001b[1;33m.\u001b[0m\u001b[0mright_on\u001b[0m\u001b[1;33m)\u001b[0m \u001b[1;33m!=\u001b[0m \u001b[0mlen\u001b[0m\u001b[1;33m(\u001b[0m\u001b[0mself\u001b[0m\u001b[1;33m.\u001b[0m\u001b[0mleft_on\u001b[0m\u001b[1;33m)\u001b[0m\u001b[1;33m:\u001b[0m\u001b[1;33m\u001b[0m\u001b[1;33m\u001b[0m\u001b[0m\n\u001b[0m\u001b[0;32m   1224\u001b[0m             \u001b[1;32mraise\u001b[0m \u001b[0mValueError\u001b[0m\u001b[1;33m(\u001b[0m\u001b[1;34m\"len(right_on) must equal len(left_on)\"\u001b[0m\u001b[1;33m)\u001b[0m\u001b[1;33m\u001b[0m\u001b[1;33m\u001b[0m\u001b[0m\n\u001b[0;32m   1225\u001b[0m \u001b[1;33m\u001b[0m\u001b[0m\n",
      "\u001b[1;31mTypeError\u001b[0m: object of type 'NoneType' has no len()"
     ]
    }
   ],
   "source": [
    "df1=df_source.merge(df_pro, left_on=df_source.index)"
   ]
  },
  {
   "cell_type": "code",
   "execution_count": 121,
   "metadata": {},
   "outputs": [
    {
     "output_type": "execute_result",
     "data": {
      "text/plain": [
       "        استان1   کد1 استان1 شهرستان1      محصول1  1کد        آبى1‏  \\\n",
       "0       مرکزى‏     0      0        0       گندم‏  102      65000.5   \n",
       "1       مرکزى‏     0      0        0          جو  104      39506.9   \n",
       "2       مرکزى‏     0      0        0  کل محصولات  199       164781   \n",
       "3        ا‏راک     1      0        1       گندم‏  102       9051.2   \n",
       "4        ا‏راک     1      0        1          جو  104       7870.8   \n",
       "...        ...   ...    ...      ...         ...  ...          ...   \n",
       "1335  کل‏ کشور  9900     99        0       گندم‏  102  2.25571e+06   \n",
       "1336  کل‏ کشور  9900     99        0          جو  104       710134   \n",
       "1337  کل‏ کشور  9900     99        0  کل محصولات  199  6.13242e+06   \n",
       "1338       NaN   NaN    NaN      NaN         NaN  NaN          NaN   \n",
       "1339       NaN   NaN    NaN      NaN         NaN  NaN          NaN   \n",
       "\n",
       "            ديم1‏        جمع1‏   منطقه2     استان       محصول  آبی  دیم  جمع  \n",
       "0          145001       210002    استان    مرکزى‏       گندم‏  NaN  NaN  NaN  \n",
       "1           11841      51347.9    استان    مرکزى‏          جو  NaN  NaN  NaN  \n",
       "2          165650       330431    استان    مرکزى‏  کل محصولات  NaN  NaN  NaN  \n",
       "3         17268.1      26319.3  شهرستان     ا‏راک       گندم‏  NaN  NaN  NaN  \n",
       "4           974.6       8845.4  شهرستان     ا‏راک          جو  NaN  NaN  NaN  \n",
       "...           ...          ...      ...       ...         ...  ...  ...  ...  \n",
       "1335  3.80554e+06  6.06125e+06      NaN  کل‏ کشور       گندم‏  NaN  NaN  NaN  \n",
       "1336  1.00293e+06  1.71306e+06      NaN  کل‏ کشور          جو  NaN  NaN  NaN  \n",
       "1337      5705487  1.18379e+07      NaN  کل‏ کشور  کل محصولات  NaN  NaN  NaN  \n",
       "1338          NaN          NaN      NaN       NaN         NaN  NaN  NaN  NaN  \n",
       "1339          NaN      11057.9      NaN       NaN         NaN  NaN  NaN  NaN  \n",
       "\n",
       "[1340 rows x 15 columns]"
      ],
      "text/html": "<div>\n<style scoped>\n    .dataframe tbody tr th:only-of-type {\n        vertical-align: middle;\n    }\n\n    .dataframe tbody tr th {\n        vertical-align: top;\n    }\n\n    .dataframe thead th {\n        text-align: right;\n    }\n</style>\n<table border=\"1\" class=\"dataframe\">\n  <thead>\n    <tr style=\"text-align: right;\">\n      <th></th>\n      <th>استان1</th>\n      <th>کد1</th>\n      <th>استان1</th>\n      <th>شهرستان1</th>\n      <th>محصول1</th>\n      <th>1کد</th>\n      <th>آبى1‏</th>\n      <th>ديم1‏</th>\n      <th>جمع1‏</th>\n      <th>منطقه2</th>\n      <th>استان</th>\n      <th>محصول</th>\n      <th>آبی</th>\n      <th>دیم</th>\n      <th>جمع</th>\n    </tr>\n  </thead>\n  <tbody>\n    <tr>\n      <td>0</td>\n      <td>مرکزى‏</td>\n      <td>0</td>\n      <td>0</td>\n      <td>0</td>\n      <td>گندم‏</td>\n      <td>102</td>\n      <td>65000.5</td>\n      <td>145001</td>\n      <td>210002</td>\n      <td>استان</td>\n      <td>مرکزى‏</td>\n      <td>گندم‏</td>\n      <td>NaN</td>\n      <td>NaN</td>\n      <td>NaN</td>\n    </tr>\n    <tr>\n      <td>1</td>\n      <td>مرکزى‏</td>\n      <td>0</td>\n      <td>0</td>\n      <td>0</td>\n      <td>جو</td>\n      <td>104</td>\n      <td>39506.9</td>\n      <td>11841</td>\n      <td>51347.9</td>\n      <td>استان</td>\n      <td>مرکزى‏</td>\n      <td>جو</td>\n      <td>NaN</td>\n      <td>NaN</td>\n      <td>NaN</td>\n    </tr>\n    <tr>\n      <td>2</td>\n      <td>مرکزى‏</td>\n      <td>0</td>\n      <td>0</td>\n      <td>0</td>\n      <td>کل محصولات</td>\n      <td>199</td>\n      <td>164781</td>\n      <td>165650</td>\n      <td>330431</td>\n      <td>استان</td>\n      <td>مرکزى‏</td>\n      <td>کل محصولات</td>\n      <td>NaN</td>\n      <td>NaN</td>\n      <td>NaN</td>\n    </tr>\n    <tr>\n      <td>3</td>\n      <td>ا‏راک</td>\n      <td>1</td>\n      <td>0</td>\n      <td>1</td>\n      <td>گندم‏</td>\n      <td>102</td>\n      <td>9051.2</td>\n      <td>17268.1</td>\n      <td>26319.3</td>\n      <td>شهرستان</td>\n      <td>ا‏راک</td>\n      <td>گندم‏</td>\n      <td>NaN</td>\n      <td>NaN</td>\n      <td>NaN</td>\n    </tr>\n    <tr>\n      <td>4</td>\n      <td>ا‏راک</td>\n      <td>1</td>\n      <td>0</td>\n      <td>1</td>\n      <td>جو</td>\n      <td>104</td>\n      <td>7870.8</td>\n      <td>974.6</td>\n      <td>8845.4</td>\n      <td>شهرستان</td>\n      <td>ا‏راک</td>\n      <td>جو</td>\n      <td>NaN</td>\n      <td>NaN</td>\n      <td>NaN</td>\n    </tr>\n    <tr>\n      <td>...</td>\n      <td>...</td>\n      <td>...</td>\n      <td>...</td>\n      <td>...</td>\n      <td>...</td>\n      <td>...</td>\n      <td>...</td>\n      <td>...</td>\n      <td>...</td>\n      <td>...</td>\n      <td>...</td>\n      <td>...</td>\n      <td>...</td>\n      <td>...</td>\n      <td>...</td>\n    </tr>\n    <tr>\n      <td>1335</td>\n      <td>کل‏ کشور</td>\n      <td>9900</td>\n      <td>99</td>\n      <td>0</td>\n      <td>گندم‏</td>\n      <td>102</td>\n      <td>2.25571e+06</td>\n      <td>3.80554e+06</td>\n      <td>6.06125e+06</td>\n      <td>NaN</td>\n      <td>کل‏ کشور</td>\n      <td>گندم‏</td>\n      <td>NaN</td>\n      <td>NaN</td>\n      <td>NaN</td>\n    </tr>\n    <tr>\n      <td>1336</td>\n      <td>کل‏ کشور</td>\n      <td>9900</td>\n      <td>99</td>\n      <td>0</td>\n      <td>جو</td>\n      <td>104</td>\n      <td>710134</td>\n      <td>1.00293e+06</td>\n      <td>1.71306e+06</td>\n      <td>NaN</td>\n      <td>کل‏ کشور</td>\n      <td>جو</td>\n      <td>NaN</td>\n      <td>NaN</td>\n      <td>NaN</td>\n    </tr>\n    <tr>\n      <td>1337</td>\n      <td>کل‏ کشور</td>\n      <td>9900</td>\n      <td>99</td>\n      <td>0</td>\n      <td>کل محصولات</td>\n      <td>199</td>\n      <td>6.13242e+06</td>\n      <td>5705487</td>\n      <td>1.18379e+07</td>\n      <td>NaN</td>\n      <td>کل‏ کشور</td>\n      <td>کل محصولات</td>\n      <td>NaN</td>\n      <td>NaN</td>\n      <td>NaN</td>\n    </tr>\n    <tr>\n      <td>1338</td>\n      <td>NaN</td>\n      <td>NaN</td>\n      <td>NaN</td>\n      <td>NaN</td>\n      <td>NaN</td>\n      <td>NaN</td>\n      <td>NaN</td>\n      <td>NaN</td>\n      <td>NaN</td>\n      <td>NaN</td>\n      <td>NaN</td>\n      <td>NaN</td>\n      <td>NaN</td>\n      <td>NaN</td>\n      <td>NaN</td>\n    </tr>\n    <tr>\n      <td>1339</td>\n      <td>NaN</td>\n      <td>NaN</td>\n      <td>NaN</td>\n      <td>NaN</td>\n      <td>NaN</td>\n      <td>NaN</td>\n      <td>NaN</td>\n      <td>NaN</td>\n      <td>11057.9</td>\n      <td>NaN</td>\n      <td>NaN</td>\n      <td>NaN</td>\n      <td>NaN</td>\n      <td>NaN</td>\n      <td>NaN</td>\n    </tr>\n  </tbody>\n</table>\n<p>1340 rows × 15 columns</p>\n</div>"
     },
     "metadata": {},
     "execution_count": 121
    }
   ],
   "source": [
    "df1"
   ]
  },
  {
   "cell_type": "code",
   "execution_count": null,
   "metadata": {},
   "outputs": [],
   "source": []
  }
 ]
}