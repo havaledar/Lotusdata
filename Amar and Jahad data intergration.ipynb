{
 "metadata": {
  "language_info": {
   "codemirror_mode": {
    "name": "ipython",
    "version": 3
   },
   "file_extension": ".py",
   "mimetype": "text/x-python",
   "name": "python",
   "nbconvert_exporter": "python",
   "pygments_lexer": "ipython3",
   "version": "3.8.5-final"
  },
  "orig_nbformat": 2,
  "kernelspec": {
   "name": "python3",
   "display_name": "Python 3",
   "language": "python"
  }
 },
 "nbformat": 4,
 "nbformat_minor": 2,
 "cells": [
  {
   "cell_type": "code",
   "execution_count": 2,
   "metadata": {},
   "outputs": [],
   "source": [
    "import pandas as pd"
   ]
  },
  {
   "cell_type": "code",
   "execution_count": 3,
   "metadata": {},
   "outputs": [],
   "source": [
    "#province data\n",
    "\n",
    "df_pro=pd.DataFrame(columns=['دیم','آبی','کل','استان'])\n",
    "\n",
    "for i in range(1,31):\n",
    "    df_i=pd.read_excel(r'Excel\\agri93- ('+str(i)+').xls', sheet_name='t26')\n",
    "    \n",
    "    df_i.dropna(how='all', inplace=True)\n",
    "    Provinces=[(df_i.iloc[0,2].split('(')[1].split(')')[0])]*3\n",
    "    \n",
    "    df_i.dropna(thresh=2, inplace=True)\n",
    "    \n",
    "    df_i.reset_index(inplace=True, drop=True)\n",
    "    df_i.drop([1,5,6], inplace=True)\n",
    "    df_i.drop(df_i.columns[[0,1,2,4,6,8]], axis=1, inplace=True)\n",
    "    df_i.dropna(how='all', axis=1, inplace=True)\n",
    "\n",
    "    df_i.columns=df_i.iloc[0]\n",
    "    df_i.drop([0], inplace=True)\n",
    "    df_i.set_index(list(df_i.columns[[3]]), inplace=True)\n",
    "    \n",
    "    df_i['استان']=Provinces\n",
    "    df_pro=pd.concat([df_pro,df_i])"
   ]
  },
  {
   "cell_type": "code",
   "execution_count": 4,
   "metadata": {},
   "outputs": [],
   "source": [
    "df_pro['استان']=df_pro['استان'].str.replace('استان ','')\n",
    "df_pro['محصول']=df_pro.index\n",
    "df_pro.reset_index(drop=True, inplace=True)\n",
    "df_pro=df_pro[['دیم', 'آبی', 'کل', 'محصول', 'استان']]"
   ]
  },
  {
   "cell_type": "code",
   "execution_count": 33,
   "metadata": {},
   "outputs": [
    {
     "output_type": "execute_result",
     "data": {
      "text/plain": [
       "        آبی      دیم      جمع محصول         استان             کلید\n",
       "0    200890   111316   312206   کل          مرکزي          مرکزیکل\n",
       "1    187423  36994.7   224418  گندم         مرکزي        مرکزیگندم\n",
       "2   10378.2  33784.7  44162.9    جو         مرکزي          مرکزیجو\n",
       "3   17593.2   129309   146903   کل          گيلان          گیلانکل\n",
       "4   7578.31  168.099  7746.41  گندم         گيلان        گیلانگندم\n",
       "..      ...      ...      ...   ...           ...              ...\n",
       "85  93301.1  39594.1   132895  گندم  خراسان شمالي  خراسانشمالیگندم\n",
       "86  34845.7  25233.9  60079.6    جو  خراسان شمالي    خراسانشمالیجو\n",
       "87  11773.8  62324.6  74098.4   کل   خراسان جنوبي    خراسانجنوبیکل\n",
       "88  8690.32    18179  26869.3  گندم  خراسان جنوبي  خراسانجنوبیگندم\n",
       "89  1562.55  18722.7  20285.3    جو  خراسان جنوبي    خراسانجنوبیجو\n",
       "\n",
       "[90 rows x 6 columns]"
      ],
      "text/html": "<div>\n<style scoped>\n    .dataframe tbody tr th:only-of-type {\n        vertical-align: middle;\n    }\n\n    .dataframe tbody tr th {\n        vertical-align: top;\n    }\n\n    .dataframe thead th {\n        text-align: right;\n    }\n</style>\n<table border=\"1\" class=\"dataframe\">\n  <thead>\n    <tr style=\"text-align: right;\">\n      <th></th>\n      <th>آبی</th>\n      <th>دیم</th>\n      <th>جمع</th>\n      <th>محصول</th>\n      <th>استان</th>\n      <th>کلید</th>\n    </tr>\n  </thead>\n  <tbody>\n    <tr>\n      <th>0</th>\n      <td>200890</td>\n      <td>111316</td>\n      <td>312206</td>\n      <td>کل</td>\n      <td>مرکزي</td>\n      <td>مرکزیکل</td>\n    </tr>\n    <tr>\n      <th>1</th>\n      <td>187423</td>\n      <td>36994.7</td>\n      <td>224418</td>\n      <td>گندم</td>\n      <td>مرکزي</td>\n      <td>مرکزیگندم</td>\n    </tr>\n    <tr>\n      <th>2</th>\n      <td>10378.2</td>\n      <td>33784.7</td>\n      <td>44162.9</td>\n      <td>جو</td>\n      <td>مرکزي</td>\n      <td>مرکزیجو</td>\n    </tr>\n    <tr>\n      <th>3</th>\n      <td>17593.2</td>\n      <td>129309</td>\n      <td>146903</td>\n      <td>کل</td>\n      <td>گيلان</td>\n      <td>گیلانکل</td>\n    </tr>\n    <tr>\n      <th>4</th>\n      <td>7578.31</td>\n      <td>168.099</td>\n      <td>7746.41</td>\n      <td>گندم</td>\n      <td>گيلان</td>\n      <td>گیلانگندم</td>\n    </tr>\n    <tr>\n      <th>...</th>\n      <td>...</td>\n      <td>...</td>\n      <td>...</td>\n      <td>...</td>\n      <td>...</td>\n      <td>...</td>\n    </tr>\n    <tr>\n      <th>85</th>\n      <td>93301.1</td>\n      <td>39594.1</td>\n      <td>132895</td>\n      <td>گندم</td>\n      <td>خراسان شمالي</td>\n      <td>خراسانشمالیگندم</td>\n    </tr>\n    <tr>\n      <th>86</th>\n      <td>34845.7</td>\n      <td>25233.9</td>\n      <td>60079.6</td>\n      <td>جو</td>\n      <td>خراسان شمالي</td>\n      <td>خراسانشمالیجو</td>\n    </tr>\n    <tr>\n      <th>87</th>\n      <td>11773.8</td>\n      <td>62324.6</td>\n      <td>74098.4</td>\n      <td>کل</td>\n      <td>خراسان جنوبي</td>\n      <td>خراسانجنوبیکل</td>\n    </tr>\n    <tr>\n      <th>88</th>\n      <td>8690.32</td>\n      <td>18179</td>\n      <td>26869.3</td>\n      <td>گندم</td>\n      <td>خراسان جنوبي</td>\n      <td>خراسانجنوبیگندم</td>\n    </tr>\n    <tr>\n      <th>89</th>\n      <td>1562.55</td>\n      <td>18722.7</td>\n      <td>20285.3</td>\n      <td>جو</td>\n      <td>خراسان جنوبي</td>\n      <td>خراسانجنوبیجو</td>\n    </tr>\n  </tbody>\n</table>\n<p>90 rows × 6 columns</p>\n</div>"
     },
     "metadata": {},
     "execution_count": 33
    }
   ],
   "source": [
    "\n",
    "df_pro['کلید']=df_pro['استان']+df_pro['محصول']\n",
    "df_pro['کلید']=df_pro['کلید'].str.replace('ك','ک')\n",
    "df_pro['کلید']=df_pro['کلید'].str.replace('ي','ی')\n",
    "df_pro['کلید']=df_pro['کلید'].str.replace('ئ','ی')\n",
    "df_pro['کلید']=df_pro['کلید'].str.replace(' ','')\n",
    "df_pro['کلید']=df_pro['کلید'].str.replace('‌','')\n",
    "df_pro"
   ]
  },
  {
   "cell_type": "code",
   "execution_count": 6,
   "metadata": {},
   "outputs": [],
   "source": [
    "df_pro.columns=['آبی',    'دیم',    'جمع', 'محصول', 'استان', 'کلید']"
   ]
  },
  {
   "cell_type": "code",
   "execution_count": 7,
   "metadata": {},
   "outputs": [],
   "source": [
    "#city data wheat\n",
    "\n",
    "df_city_wheat=pd.DataFrame(columns=['دیم','آبی','کل'])\n",
    "#    i=1\n",
    "for i in range(1,31):\n",
    "    df_i=pd.read_excel(r'Excel\\agri93- ('+str(i)+').xls', sheet_name='t27')\n",
    "    df_i.dropna(how='all', inplace=True)\n",
    "    #Provinces=[(df_i.iloc[0,1].split('(')[1].split(')')[0])]*3\n",
    "    \n",
    "    df_i.dropna(thresh=2, inplace=True)\n",
    "    \n",
    "    df_i.reset_index(inplace=True, drop=True)\n",
    "    df_i.drop([1,2], inplace=True)\n",
    "    df_i.drop(df_i.columns[[0,2,4,6]], axis=1, inplace=True)\n",
    "    df_i.dropna(how='all', axis=1, inplace=True)\n",
    "\n",
    "    df_i.columns=df_i.iloc[0]\n",
    "    df_i.drop([0], inplace=True)\n",
    "    df_i.set_index(list(df_i.columns[[3]]), inplace=True)\n",
    "    \n",
    "    #df_i['استان']=Provinces\n",
    "    df_city_wheat=pd.concat([df_city_wheat,df_i])"
   ]
  },
  {
   "cell_type": "code",
   "execution_count": 8,
   "metadata": {},
   "outputs": [],
   "source": [
    "#city data Barley\n",
    "\n",
    "df_city_barley=pd.DataFrame(columns=['دیم','آبی','کل'])\n",
    "#    i=1\n",
    "for i in range(1,31):\n",
    "    df_i=pd.read_excel(r'Excel\\agri93- ('+str(i)+').xls', sheet_name='t31')\n",
    "    df_i.dropna(how='all', inplace=True)\n",
    "    #Provinces=[(df_i.iloc[0,1].split('(')[1].split(')')[0])]*3\n",
    "    \n",
    "    df_i.dropna(thresh=2, inplace=True)\n",
    "    \n",
    "    df_i.reset_index(inplace=True, drop=True)\n",
    "    df_i.drop([1,2], inplace=True)\n",
    "    df_i.drop(df_i.columns[[0,2,4,6]], axis=1, inplace=True)\n",
    "    df_i.dropna(how='all', axis=1, inplace=True)\n",
    "\n",
    "    df_i.columns=df_i.iloc[0]\n",
    "    df_i.drop([0], inplace=True)\n",
    "    df_i.set_index(list(df_i.columns[[3]]), inplace=True)\n",
    "    \n",
    "    #df_i['استان']=Provinces\n",
    "    df_city_barley=pd.concat([df_city_barley,df_i])"
   ]
  },
  {
   "cell_type": "code",
   "execution_count": 9,
   "metadata": {},
   "outputs": [],
   "source": [
    "df_city_barley['محصول']='جو'\n",
    "df_city_wheat['محصول']='گندم'\n",
    "df_wb=pd.concat([df_city_wheat,df_city_barley])\n",
    "df_wb['شهرستان']=df_wb.index\n",
    "df_wb.reset_index(drop=True, inplace=True)"
   ]
  },
  {
   "cell_type": "code",
   "execution_count": 76,
   "metadata": {},
   "outputs": [
    {
     "output_type": "execute_result",
     "data": {
      "text/plain": [
       "0        دیم      آبی       کل محصول  شهرستان        کلید\n",
       "0    20863.9  6666.67  27530.6  گندم     اراک    اراکگندم\n",
       "1    20940.4   74.615    21015  گندم   آشتيان  آشتیانگندم\n",
       "2    4903.35  706.277  5609.62  گندم     تفرش    تفرشگندم\n",
       "3    12362.5  4939.69  17302.2  گندم     خمين    خمینگندم\n",
       "4    5733.74  1946.76  7680.51  گندم    خنداب   خندابگندم\n",
       "..       ...      ...      ...   ...      ...         ...\n",
       "841  104.125  1329.54  1433.67    جو   سربيشه    سربیشهجو\n",
       "842          2294.79  2295.79    جو      طبس       طبسجو\n",
       "843   76.664  961.551  1038.22    جو    فردوس     فردوسجو\n",
       "844  498.773  1875.42  2374.19    جو   قائنات    قائناتجو\n",
       "845  408.203  2333.91  2742.11    جو  نهبندان   نهبندانجو\n",
       "\n",
       "[846 rows x 6 columns]"
      ],
      "text/html": "<div>\n<style scoped>\n    .dataframe tbody tr th:only-of-type {\n        vertical-align: middle;\n    }\n\n    .dataframe tbody tr th {\n        vertical-align: top;\n    }\n\n    .dataframe thead th {\n        text-align: right;\n    }\n</style>\n<table border=\"1\" class=\"dataframe\">\n  <thead>\n    <tr style=\"text-align: right;\">\n      <th></th>\n      <th>دیم</th>\n      <th>آبی</th>\n      <th>کل</th>\n      <th>محصول</th>\n      <th>شهرستان</th>\n      <th>کلید</th>\n    </tr>\n  </thead>\n  <tbody>\n    <tr>\n      <th>0</th>\n      <td>20863.9</td>\n      <td>6666.67</td>\n      <td>27530.6</td>\n      <td>گندم</td>\n      <td>اراک</td>\n      <td>اراکگندم</td>\n    </tr>\n    <tr>\n      <th>1</th>\n      <td>20940.4</td>\n      <td>74.615</td>\n      <td>21015</td>\n      <td>گندم</td>\n      <td>آشتيان</td>\n      <td>آشتیانگندم</td>\n    </tr>\n    <tr>\n      <th>2</th>\n      <td>4903.35</td>\n      <td>706.277</td>\n      <td>5609.62</td>\n      <td>گندم</td>\n      <td>تفرش</td>\n      <td>تفرشگندم</td>\n    </tr>\n    <tr>\n      <th>3</th>\n      <td>12362.5</td>\n      <td>4939.69</td>\n      <td>17302.2</td>\n      <td>گندم</td>\n      <td>خمين</td>\n      <td>خمینگندم</td>\n    </tr>\n    <tr>\n      <th>4</th>\n      <td>5733.74</td>\n      <td>1946.76</td>\n      <td>7680.51</td>\n      <td>گندم</td>\n      <td>خنداب</td>\n      <td>خندابگندم</td>\n    </tr>\n    <tr>\n      <th>...</th>\n      <td>...</td>\n      <td>...</td>\n      <td>...</td>\n      <td>...</td>\n      <td>...</td>\n      <td>...</td>\n    </tr>\n    <tr>\n      <th>841</th>\n      <td>104.125</td>\n      <td>1329.54</td>\n      <td>1433.67</td>\n      <td>جو</td>\n      <td>سربيشه</td>\n      <td>سربیشهجو</td>\n    </tr>\n    <tr>\n      <th>842</th>\n      <td></td>\n      <td>2294.79</td>\n      <td>2295.79</td>\n      <td>جو</td>\n      <td>طبس</td>\n      <td>طبسجو</td>\n    </tr>\n    <tr>\n      <th>843</th>\n      <td>76.664</td>\n      <td>961.551</td>\n      <td>1038.22</td>\n      <td>جو</td>\n      <td>فردوس</td>\n      <td>فردوسجو</td>\n    </tr>\n    <tr>\n      <th>844</th>\n      <td>498.773</td>\n      <td>1875.42</td>\n      <td>2374.19</td>\n      <td>جو</td>\n      <td>قائنات</td>\n      <td>قائناتجو</td>\n    </tr>\n    <tr>\n      <th>845</th>\n      <td>408.203</td>\n      <td>2333.91</td>\n      <td>2742.11</td>\n      <td>جو</td>\n      <td>نهبندان</td>\n      <td>نهبندانجو</td>\n    </tr>\n  </tbody>\n</table>\n<p>846 rows × 6 columns</p>\n</div>"
     },
     "metadata": {},
     "execution_count": 76
    }
   ],
   "source": [
    "df_wb['کلید']=df_wb['شهرستان']+df_wb['محصول']\n",
    "df_wb['کلید']=df_wb['کلید'].str.replace('ك','ک')\n",
    "df_wb['کلید']=df_wb['کلید'].str.replace('ي','ی')\n",
    "df_wb['کلید']=df_wb['کلید'].str.replace(' ','')\n",
    "df_wb['کلید']=df_wb['کلید'].str.replace('‌','')\n",
    "df_wb"
   ]
  },
  {
   "cell_type": "code",
   "execution_count": 10,
   "metadata": {},
   "outputs": [],
   "source": [
    "#df_total=pd.concat([df_wb,df_pro])\n",
    "#df_total.reset_index(drop=True, inplace=True)\n",
    "#df_total"
   ]
  },
  {
   "cell_type": "code",
   "execution_count": 11,
   "metadata": {},
   "outputs": [],
   "source": [
    "df_source=pd.read_excel('خلاصه.xlsx')\n"
   ]
  },
  {
   "cell_type": "code",
   "execution_count": 12,
   "metadata": {},
   "outputs": [],
   "source": [
    "df_source.drop([0], inplace=True)\n",
    "df_source.columns=df_source.iloc[0]\n",
    "df_source.drop([1], inplace=True)\n"
   ]
  },
  {
   "cell_type": "code",
   "execution_count": 13,
   "metadata": {},
   "outputs": [],
   "source": [
    "df_source.columns=[    'استان1',      'کد1',   'استان1', 'شهرستان1',     'محصول1',      '1کد',\n",
    "          'آبى1‏',    'ديم1‏',    'جمع1‏',       'منطقه2',     'استان',     'محصول',\n",
    "          'آبی',    'دیم',    'جمع']"
   ]
  },
  {
   "cell_type": "code",
   "execution_count": 14,
   "metadata": {},
   "outputs": [
    {
     "output_type": "execute_result",
     "data": {
      "text/plain": [
       "        استان1   کد1 استان1 شهرستان1      محصول1  1کد        آبى1‏  \\\n",
       "2       مرکزى‏     0      0        0       گندم‏  102      65000.5   \n",
       "3       مرکزى‏     0      0        0          جو  104      39506.9   \n",
       "4       مرکزى‏     0      0        0  کل محصولات  199       164781   \n",
       "5        ا‏راک     1      0        1       گندم‏  102       9051.2   \n",
       "6        ا‏راک     1      0        1          جو  104       7870.8   \n",
       "...        ...   ...    ...      ...         ...  ...          ...   \n",
       "1337  کل‏ کشور  9900     99        0       گندم‏  102  2.25571e+06   \n",
       "1338  کل‏ کشور  9900     99        0          جو  104       710134   \n",
       "1339  کل‏ کشور  9900     99        0  کل محصولات  199  6.13242e+06   \n",
       "1340       NaN   NaN    NaN      NaN         NaN  NaN          NaN   \n",
       "1341       NaN   NaN    NaN      NaN         NaN  NaN          NaN   \n",
       "\n",
       "            ديم1‏        جمع1‏   منطقه2     استان       محصول  آبی  دیم  جمع  \n",
       "2          145001       210002    استان    مرکزى‏       گندم‏  NaN  NaN  NaN  \n",
       "3           11841      51347.9    استان    مرکزى‏          جو  NaN  NaN  NaN  \n",
       "4          165650       330431    استان    مرکزى‏  کل محصولات  NaN  NaN  NaN  \n",
       "5         17268.1      26319.3  شهرستان     ا‏راک       گندم‏  NaN  NaN  NaN  \n",
       "6           974.6       8845.4  شهرستان     ا‏راک          جو  NaN  NaN  NaN  \n",
       "...           ...          ...      ...       ...         ...  ...  ...  ...  \n",
       "1337  3.80554e+06  6.06125e+06      NaN  کل‏ کشور       گندم‏  NaN  NaN  NaN  \n",
       "1338  1.00293e+06  1.71306e+06      NaN  کل‏ کشور          جو  NaN  NaN  NaN  \n",
       "1339      5705487  1.18379e+07      NaN  کل‏ کشور  کل محصولات  NaN  NaN  NaN  \n",
       "1340          NaN          NaN      NaN       NaN         NaN  NaN  NaN  NaN  \n",
       "1341          NaN      11057.9      NaN       NaN         NaN  NaN  NaN  NaN  \n",
       "\n",
       "[1340 rows x 15 columns]"
      ],
      "text/html": "<div>\n<style scoped>\n    .dataframe tbody tr th:only-of-type {\n        vertical-align: middle;\n    }\n\n    .dataframe tbody tr th {\n        vertical-align: top;\n    }\n\n    .dataframe thead th {\n        text-align: right;\n    }\n</style>\n<table border=\"1\" class=\"dataframe\">\n  <thead>\n    <tr style=\"text-align: right;\">\n      <th></th>\n      <th>استان1</th>\n      <th>کد1</th>\n      <th>استان1</th>\n      <th>شهرستان1</th>\n      <th>محصول1</th>\n      <th>1کد</th>\n      <th>آبى1‏</th>\n      <th>ديم1‏</th>\n      <th>جمع1‏</th>\n      <th>منطقه2</th>\n      <th>استان</th>\n      <th>محصول</th>\n      <th>آبی</th>\n      <th>دیم</th>\n      <th>جمع</th>\n    </tr>\n  </thead>\n  <tbody>\n    <tr>\n      <th>2</th>\n      <td>مرکزى‏</td>\n      <td>0</td>\n      <td>0</td>\n      <td>0</td>\n      <td>گندم‏</td>\n      <td>102</td>\n      <td>65000.5</td>\n      <td>145001</td>\n      <td>210002</td>\n      <td>استان</td>\n      <td>مرکزى‏</td>\n      <td>گندم‏</td>\n      <td>NaN</td>\n      <td>NaN</td>\n      <td>NaN</td>\n    </tr>\n    <tr>\n      <th>3</th>\n      <td>مرکزى‏</td>\n      <td>0</td>\n      <td>0</td>\n      <td>0</td>\n      <td>جو</td>\n      <td>104</td>\n      <td>39506.9</td>\n      <td>11841</td>\n      <td>51347.9</td>\n      <td>استان</td>\n      <td>مرکزى‏</td>\n      <td>جو</td>\n      <td>NaN</td>\n      <td>NaN</td>\n      <td>NaN</td>\n    </tr>\n    <tr>\n      <th>4</th>\n      <td>مرکزى‏</td>\n      <td>0</td>\n      <td>0</td>\n      <td>0</td>\n      <td>کل محصولات</td>\n      <td>199</td>\n      <td>164781</td>\n      <td>165650</td>\n      <td>330431</td>\n      <td>استان</td>\n      <td>مرکزى‏</td>\n      <td>کل محصولات</td>\n      <td>NaN</td>\n      <td>NaN</td>\n      <td>NaN</td>\n    </tr>\n    <tr>\n      <th>5</th>\n      <td>ا‏راک</td>\n      <td>1</td>\n      <td>0</td>\n      <td>1</td>\n      <td>گندم‏</td>\n      <td>102</td>\n      <td>9051.2</td>\n      <td>17268.1</td>\n      <td>26319.3</td>\n      <td>شهرستان</td>\n      <td>ا‏راک</td>\n      <td>گندم‏</td>\n      <td>NaN</td>\n      <td>NaN</td>\n      <td>NaN</td>\n    </tr>\n    <tr>\n      <th>6</th>\n      <td>ا‏راک</td>\n      <td>1</td>\n      <td>0</td>\n      <td>1</td>\n      <td>جو</td>\n      <td>104</td>\n      <td>7870.8</td>\n      <td>974.6</td>\n      <td>8845.4</td>\n      <td>شهرستان</td>\n      <td>ا‏راک</td>\n      <td>جو</td>\n      <td>NaN</td>\n      <td>NaN</td>\n      <td>NaN</td>\n    </tr>\n    <tr>\n      <th>...</th>\n      <td>...</td>\n      <td>...</td>\n      <td>...</td>\n      <td>...</td>\n      <td>...</td>\n      <td>...</td>\n      <td>...</td>\n      <td>...</td>\n      <td>...</td>\n      <td>...</td>\n      <td>...</td>\n      <td>...</td>\n      <td>...</td>\n      <td>...</td>\n      <td>...</td>\n    </tr>\n    <tr>\n      <th>1337</th>\n      <td>کل‏ کشور</td>\n      <td>9900</td>\n      <td>99</td>\n      <td>0</td>\n      <td>گندم‏</td>\n      <td>102</td>\n      <td>2.25571e+06</td>\n      <td>3.80554e+06</td>\n      <td>6.06125e+06</td>\n      <td>NaN</td>\n      <td>کل‏ کشور</td>\n      <td>گندم‏</td>\n      <td>NaN</td>\n      <td>NaN</td>\n      <td>NaN</td>\n    </tr>\n    <tr>\n      <th>1338</th>\n      <td>کل‏ کشور</td>\n      <td>9900</td>\n      <td>99</td>\n      <td>0</td>\n      <td>جو</td>\n      <td>104</td>\n      <td>710134</td>\n      <td>1.00293e+06</td>\n      <td>1.71306e+06</td>\n      <td>NaN</td>\n      <td>کل‏ کشور</td>\n      <td>جو</td>\n      <td>NaN</td>\n      <td>NaN</td>\n      <td>NaN</td>\n    </tr>\n    <tr>\n      <th>1339</th>\n      <td>کل‏ کشور</td>\n      <td>9900</td>\n      <td>99</td>\n      <td>0</td>\n      <td>کل محصولات</td>\n      <td>199</td>\n      <td>6.13242e+06</td>\n      <td>5705487</td>\n      <td>1.18379e+07</td>\n      <td>NaN</td>\n      <td>کل‏ کشور</td>\n      <td>کل محصولات</td>\n      <td>NaN</td>\n      <td>NaN</td>\n      <td>NaN</td>\n    </tr>\n    <tr>\n      <th>1340</th>\n      <td>NaN</td>\n      <td>NaN</td>\n      <td>NaN</td>\n      <td>NaN</td>\n      <td>NaN</td>\n      <td>NaN</td>\n      <td>NaN</td>\n      <td>NaN</td>\n      <td>NaN</td>\n      <td>NaN</td>\n      <td>NaN</td>\n      <td>NaN</td>\n      <td>NaN</td>\n      <td>NaN</td>\n      <td>NaN</td>\n    </tr>\n    <tr>\n      <th>1341</th>\n      <td>NaN</td>\n      <td>NaN</td>\n      <td>NaN</td>\n      <td>NaN</td>\n      <td>NaN</td>\n      <td>NaN</td>\n      <td>NaN</td>\n      <td>NaN</td>\n      <td>11057.9</td>\n      <td>NaN</td>\n      <td>NaN</td>\n      <td>NaN</td>\n      <td>NaN</td>\n      <td>NaN</td>\n      <td>NaN</td>\n    </tr>\n  </tbody>\n</table>\n<p>1340 rows × 15 columns</p>\n</div>"
     },
     "metadata": {},
     "execution_count": 14
    }
   ],
   "source": [
    "df_source"
   ]
  },
  {
   "cell_type": "code",
   "execution_count": 43,
   "metadata": {},
   "outputs": [
    {
     "output_type": "execute_result",
     "data": {
      "text/plain": [
       "        استان1   کد1 استان1 شهرستان1      محصول1  1کد        آبى1‏  \\\n",
       "2       مرکزى‏     0      0        0       گندم‏  102      65000.5   \n",
       "3       مرکزى‏     0      0        0          جو  104      39506.9   \n",
       "4       مرکزى‏     0      0        0  کل محصولات  199       164781   \n",
       "5        ا‏راک     1      0        1       گندم‏  102       9051.2   \n",
       "6        ا‏راک     1      0        1          جو  104       7870.8   \n",
       "...        ...   ...    ...      ...         ...  ...          ...   \n",
       "1337  کل‏ کشور  9900     99        0       گندم‏  102  2.25571e+06   \n",
       "1338  کل‏ کشور  9900     99        0          جو  104       710134   \n",
       "1339  کل‏ کشور  9900     99        0  کل محصولات  199  6.13242e+06   \n",
       "1340       NaN   NaN    NaN      NaN         NaN  NaN          NaN   \n",
       "1341       NaN   NaN    NaN      NaN         NaN  NaN          NaN   \n",
       "\n",
       "            ديم1‏        جمع1‏   منطقه2     استان  محصول  آبی  دیم  جمع  \\\n",
       "2          145001       210002    استان    مرکزى‏  گندم‏  NaN  NaN  NaN   \n",
       "3           11841      51347.9    استان    مرکزى‏     جو  NaN  NaN  NaN   \n",
       "4          165650       330431    استان    مرکزى‏     کل  NaN  NaN  NaN   \n",
       "5         17268.1      26319.3  شهرستان     ا‏راک  گندم‏  NaN  NaN  NaN   \n",
       "6           974.6       8845.4  شهرستان     ا‏راک     جو  NaN  NaN  NaN   \n",
       "...           ...          ...      ...       ...    ...  ...  ...  ...   \n",
       "1337  3.80554e+06  6.06125e+06      NaN  کل‏ کشور  گندم‏  NaN  NaN  NaN   \n",
       "1338  1.00293e+06  1.71306e+06      NaN  کل‏ کشور     جو  NaN  NaN  NaN   \n",
       "1339      5705487  1.18379e+07      NaN  کل‏ کشور     کل  NaN  NaN  NaN   \n",
       "1340          NaN          NaN      NaN       NaN    NaN  NaN  NaN  NaN   \n",
       "1341          NaN      11057.9      NaN       NaN    NaN  NaN  NaN  NaN   \n",
       "\n",
       "            کلید  \n",
       "2      مرکزیگندم  \n",
       "3        مرکزیجو  \n",
       "4        مرکزیکل  \n",
       "5       اراکگندم  \n",
       "6         اراکجو  \n",
       "...          ...  \n",
       "1337  کلکشورگندم  \n",
       "1338    کلکشورجو  \n",
       "1339    کلکشورکل  \n",
       "1340         NaN  \n",
       "1341         NaN  \n",
       "\n",
       "[1340 rows x 16 columns]"
      ],
      "text/html": "<div>\n<style scoped>\n    .dataframe tbody tr th:only-of-type {\n        vertical-align: middle;\n    }\n\n    .dataframe tbody tr th {\n        vertical-align: top;\n    }\n\n    .dataframe thead th {\n        text-align: right;\n    }\n</style>\n<table border=\"1\" class=\"dataframe\">\n  <thead>\n    <tr style=\"text-align: right;\">\n      <th></th>\n      <th>استان1</th>\n      <th>کد1</th>\n      <th>استان1</th>\n      <th>شهرستان1</th>\n      <th>محصول1</th>\n      <th>1کد</th>\n      <th>آبى1‏</th>\n      <th>ديم1‏</th>\n      <th>جمع1‏</th>\n      <th>منطقه2</th>\n      <th>استان</th>\n      <th>محصول</th>\n      <th>آبی</th>\n      <th>دیم</th>\n      <th>جمع</th>\n      <th>کلید</th>\n    </tr>\n  </thead>\n  <tbody>\n    <tr>\n      <th>2</th>\n      <td>مرکزى‏</td>\n      <td>0</td>\n      <td>0</td>\n      <td>0</td>\n      <td>گندم‏</td>\n      <td>102</td>\n      <td>65000.5</td>\n      <td>145001</td>\n      <td>210002</td>\n      <td>استان</td>\n      <td>مرکزى‏</td>\n      <td>گندم‏</td>\n      <td>NaN</td>\n      <td>NaN</td>\n      <td>NaN</td>\n      <td>مرکزیگندم</td>\n    </tr>\n    <tr>\n      <th>3</th>\n      <td>مرکزى‏</td>\n      <td>0</td>\n      <td>0</td>\n      <td>0</td>\n      <td>جو</td>\n      <td>104</td>\n      <td>39506.9</td>\n      <td>11841</td>\n      <td>51347.9</td>\n      <td>استان</td>\n      <td>مرکزى‏</td>\n      <td>جو</td>\n      <td>NaN</td>\n      <td>NaN</td>\n      <td>NaN</td>\n      <td>مرکزیجو</td>\n    </tr>\n    <tr>\n      <th>4</th>\n      <td>مرکزى‏</td>\n      <td>0</td>\n      <td>0</td>\n      <td>0</td>\n      <td>کل محصولات</td>\n      <td>199</td>\n      <td>164781</td>\n      <td>165650</td>\n      <td>330431</td>\n      <td>استان</td>\n      <td>مرکزى‏</td>\n      <td>کل</td>\n      <td>NaN</td>\n      <td>NaN</td>\n      <td>NaN</td>\n      <td>مرکزیکل</td>\n    </tr>\n    <tr>\n      <th>5</th>\n      <td>ا‏راک</td>\n      <td>1</td>\n      <td>0</td>\n      <td>1</td>\n      <td>گندم‏</td>\n      <td>102</td>\n      <td>9051.2</td>\n      <td>17268.1</td>\n      <td>26319.3</td>\n      <td>شهرستان</td>\n      <td>ا‏راک</td>\n      <td>گندم‏</td>\n      <td>NaN</td>\n      <td>NaN</td>\n      <td>NaN</td>\n      <td>اراکگندم</td>\n    </tr>\n    <tr>\n      <th>6</th>\n      <td>ا‏راک</td>\n      <td>1</td>\n      <td>0</td>\n      <td>1</td>\n      <td>جو</td>\n      <td>104</td>\n      <td>7870.8</td>\n      <td>974.6</td>\n      <td>8845.4</td>\n      <td>شهرستان</td>\n      <td>ا‏راک</td>\n      <td>جو</td>\n      <td>NaN</td>\n      <td>NaN</td>\n      <td>NaN</td>\n      <td>اراکجو</td>\n    </tr>\n    <tr>\n      <th>...</th>\n      <td>...</td>\n      <td>...</td>\n      <td>...</td>\n      <td>...</td>\n      <td>...</td>\n      <td>...</td>\n      <td>...</td>\n      <td>...</td>\n      <td>...</td>\n      <td>...</td>\n      <td>...</td>\n      <td>...</td>\n      <td>...</td>\n      <td>...</td>\n      <td>...</td>\n      <td>...</td>\n    </tr>\n    <tr>\n      <th>1337</th>\n      <td>کل‏ کشور</td>\n      <td>9900</td>\n      <td>99</td>\n      <td>0</td>\n      <td>گندم‏</td>\n      <td>102</td>\n      <td>2.25571e+06</td>\n      <td>3.80554e+06</td>\n      <td>6.06125e+06</td>\n      <td>NaN</td>\n      <td>کل‏ کشور</td>\n      <td>گندم‏</td>\n      <td>NaN</td>\n      <td>NaN</td>\n      <td>NaN</td>\n      <td>کلکشورگندم</td>\n    </tr>\n    <tr>\n      <th>1338</th>\n      <td>کل‏ کشور</td>\n      <td>9900</td>\n      <td>99</td>\n      <td>0</td>\n      <td>جو</td>\n      <td>104</td>\n      <td>710134</td>\n      <td>1.00293e+06</td>\n      <td>1.71306e+06</td>\n      <td>NaN</td>\n      <td>کل‏ کشور</td>\n      <td>جو</td>\n      <td>NaN</td>\n      <td>NaN</td>\n      <td>NaN</td>\n      <td>کلکشورجو</td>\n    </tr>\n    <tr>\n      <th>1339</th>\n      <td>کل‏ کشور</td>\n      <td>9900</td>\n      <td>99</td>\n      <td>0</td>\n      <td>کل محصولات</td>\n      <td>199</td>\n      <td>6.13242e+06</td>\n      <td>5705487</td>\n      <td>1.18379e+07</td>\n      <td>NaN</td>\n      <td>کل‏ کشور</td>\n      <td>کل</td>\n      <td>NaN</td>\n      <td>NaN</td>\n      <td>NaN</td>\n      <td>کلکشورکل</td>\n    </tr>\n    <tr>\n      <th>1340</th>\n      <td>NaN</td>\n      <td>NaN</td>\n      <td>NaN</td>\n      <td>NaN</td>\n      <td>NaN</td>\n      <td>NaN</td>\n      <td>NaN</td>\n      <td>NaN</td>\n      <td>NaN</td>\n      <td>NaN</td>\n      <td>NaN</td>\n      <td>NaN</td>\n      <td>NaN</td>\n      <td>NaN</td>\n      <td>NaN</td>\n      <td>NaN</td>\n    </tr>\n    <tr>\n      <th>1341</th>\n      <td>NaN</td>\n      <td>NaN</td>\n      <td>NaN</td>\n      <td>NaN</td>\n      <td>NaN</td>\n      <td>NaN</td>\n      <td>NaN</td>\n      <td>NaN</td>\n      <td>11057.9</td>\n      <td>NaN</td>\n      <td>NaN</td>\n      <td>NaN</td>\n      <td>NaN</td>\n      <td>NaN</td>\n      <td>NaN</td>\n      <td>NaN</td>\n    </tr>\n  </tbody>\n</table>\n<p>1340 rows × 16 columns</p>\n</div>"
     },
     "metadata": {},
     "execution_count": 43
    }
   ],
   "source": [
    "df_source['محصول']=df_source['محصول'].replace('کل محصولات', 'کل')\n",
    "df_source['کلید']=df_source['استان']+df_source['محصول']\n",
    "df_source['کلید']=df_source['کلید'].str.replace('ك','ک')\n",
    "df_source['کلید']=df_source['کلید'].str.replace('ي','ی')\n",
    "df_source['کلید']=df_source['کلید'].str.replace('ى','ی')\n",
    "df_source['کلید']=df_source['کلید'].str.replace(' ','')\n",
    "df_source['کلید']=df_source['کلید'].str.replace('‌','')\n",
    "df_source['کلید']=df_source['کلید'].str.encode(\"utf_8\").str.decode('utf_8').str.replace('\\u200f','')\n",
    "df_source"
   ]
  },
  {
   "cell_type": "code",
   "execution_count": 93,
   "metadata": {},
   "outputs": [],
   "source": [
    "result1 = df_source[df_source['شهرستان1']==0].merge(df_pro, how='left', on='کلید')\n",
    "result1.drop(columns=['محصول_x',\t'آبی_x',\t'دیم_x', 'جمع_x','استان_x'], inplace=True)"
   ]
  },
  {
   "cell_type": "code",
   "execution_count": 94,
   "metadata": {},
   "outputs": [],
   "source": [
    "result2 = df_source[df_source['شهرستان1']!=0].merge(df_wb, how='left', on='کلید')\n",
    "result2.drop(columns=['محصول_x',\t'آبی_x',\t'دیم_x','جمع', 'استان'], inplace=True)"
   ]
  },
  {
   "cell_type": "code",
   "execution_count": 96,
   "metadata": {},
   "outputs": [
    {
     "output_type": "execute_result",
     "data": {
      "text/plain": [
       "      استان1   کد1 استان1 شهرستان1      محصول1  1کد        آبى1‏        ديم1‏  \\\n",
       "0     مرکزى‏     0      0        0       گندم‏  102      65000.5       145001   \n",
       "1     مرکزى‏     0      0        0          جو  104      39506.9        11841   \n",
       "2     مرکزى‏     0      0        0  کل محصولات  199       164781       165650   \n",
       "3     گيلان‏   100      1        0       گندم‏  102         67.6       8112.3   \n",
       "4     گيلان‏   100      1        0          جو  104         59.5       6737.4   \n",
       "..       ...   ...    ...      ...         ...  ...          ...          ...   \n",
       "94     البرز  3200     32        0          جو  104       8817.7            0   \n",
       "95     البرز  3200     32        0  کل محصولات  199      42991.6            9   \n",
       "96  کل‏ کشور  9900     99        0       گندم‏  102  2.25571e+06  3.80554e+06   \n",
       "97  کل‏ کشور  9900     99        0          جو  104       710134  1.00293e+06   \n",
       "98  کل‏ کشور  9900     99        0  کل محصولات  199  6.13242e+06      5705487   \n",
       "\n",
       "          جمع1‏ منطقه2        کلید    آبی_y    دیم_y    جمع_y محصول_y استان_y  \n",
       "0        210002  استان   مرکزیگندم   187423  36994.7   224418    گندم   مرکزي  \n",
       "1       51347.9  استان     مرکزیجو  10378.2  33784.7  44162.9      جو   مرکزي  \n",
       "2        330431  استان     مرکزیکل   200890   111316   312206     کل    مرکزي  \n",
       "3        8179.9  استان   گیلانگندم  7578.31  168.099  7746.41    گندم   گيلان  \n",
       "4        6796.9  استان     گیلانجو  3670.53  116.055  3786.58      جو   گيلان  \n",
       "..          ...    ...         ...      ...      ...      ...     ...     ...  \n",
       "94       8817.7    NaN     البرزجو      NaN      NaN      NaN     NaN     NaN  \n",
       "95      43000.6    NaN     البرزکل      NaN      NaN      NaN     NaN     NaN  \n",
       "96  6.06125e+06    NaN  کلکشورگندم      NaN      NaN      NaN     NaN     NaN  \n",
       "97  1.71306e+06    NaN    کلکشورجو      NaN      NaN      NaN     NaN     NaN  \n",
       "98  1.18379e+07    NaN    کلکشورکل      NaN      NaN      NaN     NaN     NaN  \n",
       "\n",
       "[99 rows x 16 columns]"
      ],
      "text/html": "<div>\n<style scoped>\n    .dataframe tbody tr th:only-of-type {\n        vertical-align: middle;\n    }\n\n    .dataframe tbody tr th {\n        vertical-align: top;\n    }\n\n    .dataframe thead th {\n        text-align: right;\n    }\n</style>\n<table border=\"1\" class=\"dataframe\">\n  <thead>\n    <tr style=\"text-align: right;\">\n      <th></th>\n      <th>استان1</th>\n      <th>کد1</th>\n      <th>استان1</th>\n      <th>شهرستان1</th>\n      <th>محصول1</th>\n      <th>1کد</th>\n      <th>آبى1‏</th>\n      <th>ديم1‏</th>\n      <th>جمع1‏</th>\n      <th>منطقه2</th>\n      <th>کلید</th>\n      <th>آبی_y</th>\n      <th>دیم_y</th>\n      <th>جمع_y</th>\n      <th>محصول_y</th>\n      <th>استان_y</th>\n    </tr>\n  </thead>\n  <tbody>\n    <tr>\n      <th>0</th>\n      <td>مرکزى‏</td>\n      <td>0</td>\n      <td>0</td>\n      <td>0</td>\n      <td>گندم‏</td>\n      <td>102</td>\n      <td>65000.5</td>\n      <td>145001</td>\n      <td>210002</td>\n      <td>استان</td>\n      <td>مرکزیگندم</td>\n      <td>187423</td>\n      <td>36994.7</td>\n      <td>224418</td>\n      <td>گندم</td>\n      <td>مرکزي</td>\n    </tr>\n    <tr>\n      <th>1</th>\n      <td>مرکزى‏</td>\n      <td>0</td>\n      <td>0</td>\n      <td>0</td>\n      <td>جو</td>\n      <td>104</td>\n      <td>39506.9</td>\n      <td>11841</td>\n      <td>51347.9</td>\n      <td>استان</td>\n      <td>مرکزیجو</td>\n      <td>10378.2</td>\n      <td>33784.7</td>\n      <td>44162.9</td>\n      <td>جو</td>\n      <td>مرکزي</td>\n    </tr>\n    <tr>\n      <th>2</th>\n      <td>مرکزى‏</td>\n      <td>0</td>\n      <td>0</td>\n      <td>0</td>\n      <td>کل محصولات</td>\n      <td>199</td>\n      <td>164781</td>\n      <td>165650</td>\n      <td>330431</td>\n      <td>استان</td>\n      <td>مرکزیکل</td>\n      <td>200890</td>\n      <td>111316</td>\n      <td>312206</td>\n      <td>کل</td>\n      <td>مرکزي</td>\n    </tr>\n    <tr>\n      <th>3</th>\n      <td>گيلان‏</td>\n      <td>100</td>\n      <td>1</td>\n      <td>0</td>\n      <td>گندم‏</td>\n      <td>102</td>\n      <td>67.6</td>\n      <td>8112.3</td>\n      <td>8179.9</td>\n      <td>استان</td>\n      <td>گیلانگندم</td>\n      <td>7578.31</td>\n      <td>168.099</td>\n      <td>7746.41</td>\n      <td>گندم</td>\n      <td>گيلان</td>\n    </tr>\n    <tr>\n      <th>4</th>\n      <td>گيلان‏</td>\n      <td>100</td>\n      <td>1</td>\n      <td>0</td>\n      <td>جو</td>\n      <td>104</td>\n      <td>59.5</td>\n      <td>6737.4</td>\n      <td>6796.9</td>\n      <td>استان</td>\n      <td>گیلانجو</td>\n      <td>3670.53</td>\n      <td>116.055</td>\n      <td>3786.58</td>\n      <td>جو</td>\n      <td>گيلان</td>\n    </tr>\n    <tr>\n      <th>...</th>\n      <td>...</td>\n      <td>...</td>\n      <td>...</td>\n      <td>...</td>\n      <td>...</td>\n      <td>...</td>\n      <td>...</td>\n      <td>...</td>\n      <td>...</td>\n      <td>...</td>\n      <td>...</td>\n      <td>...</td>\n      <td>...</td>\n      <td>...</td>\n      <td>...</td>\n      <td>...</td>\n    </tr>\n    <tr>\n      <th>94</th>\n      <td>البرز</td>\n      <td>3200</td>\n      <td>32</td>\n      <td>0</td>\n      <td>جو</td>\n      <td>104</td>\n      <td>8817.7</td>\n      <td>0</td>\n      <td>8817.7</td>\n      <td>NaN</td>\n      <td>البرزجو</td>\n      <td>NaN</td>\n      <td>NaN</td>\n      <td>NaN</td>\n      <td>NaN</td>\n      <td>NaN</td>\n    </tr>\n    <tr>\n      <th>95</th>\n      <td>البرز</td>\n      <td>3200</td>\n      <td>32</td>\n      <td>0</td>\n      <td>کل محصولات</td>\n      <td>199</td>\n      <td>42991.6</td>\n      <td>9</td>\n      <td>43000.6</td>\n      <td>NaN</td>\n      <td>البرزکل</td>\n      <td>NaN</td>\n      <td>NaN</td>\n      <td>NaN</td>\n      <td>NaN</td>\n      <td>NaN</td>\n    </tr>\n    <tr>\n      <th>96</th>\n      <td>کل‏ کشور</td>\n      <td>9900</td>\n      <td>99</td>\n      <td>0</td>\n      <td>گندم‏</td>\n      <td>102</td>\n      <td>2.25571e+06</td>\n      <td>3.80554e+06</td>\n      <td>6.06125e+06</td>\n      <td>NaN</td>\n      <td>کلکشورگندم</td>\n      <td>NaN</td>\n      <td>NaN</td>\n      <td>NaN</td>\n      <td>NaN</td>\n      <td>NaN</td>\n    </tr>\n    <tr>\n      <th>97</th>\n      <td>کل‏ کشور</td>\n      <td>9900</td>\n      <td>99</td>\n      <td>0</td>\n      <td>جو</td>\n      <td>104</td>\n      <td>710134</td>\n      <td>1.00293e+06</td>\n      <td>1.71306e+06</td>\n      <td>NaN</td>\n      <td>کلکشورجو</td>\n      <td>NaN</td>\n      <td>NaN</td>\n      <td>NaN</td>\n      <td>NaN</td>\n      <td>NaN</td>\n    </tr>\n    <tr>\n      <th>98</th>\n      <td>کل‏ کشور</td>\n      <td>9900</td>\n      <td>99</td>\n      <td>0</td>\n      <td>کل محصولات</td>\n      <td>199</td>\n      <td>6.13242e+06</td>\n      <td>5705487</td>\n      <td>1.18379e+07</td>\n      <td>NaN</td>\n      <td>کلکشورکل</td>\n      <td>NaN</td>\n      <td>NaN</td>\n      <td>NaN</td>\n      <td>NaN</td>\n      <td>NaN</td>\n    </tr>\n  </tbody>\n</table>\n<p>99 rows × 16 columns</p>\n</div>"
     },
     "metadata": {},
     "execution_count": 96
    }
   ],
   "source": [
    "result1"
   ]
  },
  {
   "cell_type": "code",
   "execution_count": 97,
   "metadata": {},
   "outputs": [
    {
     "output_type": "execute_result",
     "data": {
      "text/plain": [
       "        استان1   کد1 استان1 شهرستان1      محصول1  1کد    آبى1‏    ديم1‏  \\\n",
       "0        ا‏راک     1      0        1       گندم‏  102   9051.2  17268.1   \n",
       "1        ا‏راک     1      0        1          جو  104   7870.8    974.6   \n",
       "2        ا‏راک     1      0        1  کل محصولات  199  28512.1  19216.4   \n",
       "3     آشتيا‏ن‏     2      0        2       گندم‏  102      483  22753.7   \n",
       "4     آشتيا‏ن‏     2      0        2          جو  104    271.3    569.2   \n",
       "...        ...   ...    ...      ...         ...  ...      ...      ...   \n",
       "1236     فردیس  3206     32        6       گندم‏  102    104.3        0   \n",
       "1237     فردیس  3206     32        6          جو  104     98.9        0   \n",
       "1238     فردیس  3206     32        6  کل محصولات  199  1067.29        0   \n",
       "1239       NaN   NaN    NaN      NaN         NaN  NaN      NaN      NaN   \n",
       "1240       NaN   NaN    NaN      NaN         NaN  NaN      NaN      NaN   \n",
       "\n",
       "        جمع1‏   منطقه2        کلید    دیم_y    آبی_y       کل محصول_y شهرستان  \n",
       "0     26319.3  شهرستان    اراکگندم  20863.9  6666.67  27530.6    گندم    اراک  \n",
       "1      8845.4  شهرستان      اراکجو   2764.7  9037.71  11802.4      جو    اراک  \n",
       "2     47728.5  شهرستان      اراککل      NaN      NaN      NaN     NaN     NaN  \n",
       "3     23236.7  شهرستان  آشتیانگندم  20940.4   74.615    21015    گندم  آشتيان  \n",
       "4       840.5  شهرستان    آشتیانجو   245.25  175.018  420.269      جو  آشتيان  \n",
       "...       ...      ...         ...      ...      ...      ...     ...     ...  \n",
       "1236    104.3      NaN   فردیسگندم      NaN      NaN      NaN     NaN     NaN  \n",
       "1237     98.9      NaN     فردیسجو      NaN      NaN      NaN     NaN     NaN  \n",
       "1238  1067.29      NaN     فردیسکل      NaN      NaN      NaN     NaN     NaN  \n",
       "1239      NaN      NaN         NaN      NaN      NaN      NaN     NaN     NaN  \n",
       "1240  11057.9      NaN         NaN      NaN      NaN      NaN     NaN     NaN  \n",
       "\n",
       "[1241 rows x 16 columns]"
      ],
      "text/html": "<div>\n<style scoped>\n    .dataframe tbody tr th:only-of-type {\n        vertical-align: middle;\n    }\n\n    .dataframe tbody tr th {\n        vertical-align: top;\n    }\n\n    .dataframe thead th {\n        text-align: right;\n    }\n</style>\n<table border=\"1\" class=\"dataframe\">\n  <thead>\n    <tr style=\"text-align: right;\">\n      <th></th>\n      <th>استان1</th>\n      <th>کد1</th>\n      <th>استان1</th>\n      <th>شهرستان1</th>\n      <th>محصول1</th>\n      <th>1کد</th>\n      <th>آبى1‏</th>\n      <th>ديم1‏</th>\n      <th>جمع1‏</th>\n      <th>منطقه2</th>\n      <th>کلید</th>\n      <th>دیم_y</th>\n      <th>آبی_y</th>\n      <th>کل</th>\n      <th>محصول_y</th>\n      <th>شهرستان</th>\n    </tr>\n  </thead>\n  <tbody>\n    <tr>\n      <th>0</th>\n      <td>ا‏راک</td>\n      <td>1</td>\n      <td>0</td>\n      <td>1</td>\n      <td>گندم‏</td>\n      <td>102</td>\n      <td>9051.2</td>\n      <td>17268.1</td>\n      <td>26319.3</td>\n      <td>شهرستان</td>\n      <td>اراکگندم</td>\n      <td>20863.9</td>\n      <td>6666.67</td>\n      <td>27530.6</td>\n      <td>گندم</td>\n      <td>اراک</td>\n    </tr>\n    <tr>\n      <th>1</th>\n      <td>ا‏راک</td>\n      <td>1</td>\n      <td>0</td>\n      <td>1</td>\n      <td>جو</td>\n      <td>104</td>\n      <td>7870.8</td>\n      <td>974.6</td>\n      <td>8845.4</td>\n      <td>شهرستان</td>\n      <td>اراکجو</td>\n      <td>2764.7</td>\n      <td>9037.71</td>\n      <td>11802.4</td>\n      <td>جو</td>\n      <td>اراک</td>\n    </tr>\n    <tr>\n      <th>2</th>\n      <td>ا‏راک</td>\n      <td>1</td>\n      <td>0</td>\n      <td>1</td>\n      <td>کل محصولات</td>\n      <td>199</td>\n      <td>28512.1</td>\n      <td>19216.4</td>\n      <td>47728.5</td>\n      <td>شهرستان</td>\n      <td>اراککل</td>\n      <td>NaN</td>\n      <td>NaN</td>\n      <td>NaN</td>\n      <td>NaN</td>\n      <td>NaN</td>\n    </tr>\n    <tr>\n      <th>3</th>\n      <td>آشتيا‏ن‏</td>\n      <td>2</td>\n      <td>0</td>\n      <td>2</td>\n      <td>گندم‏</td>\n      <td>102</td>\n      <td>483</td>\n      <td>22753.7</td>\n      <td>23236.7</td>\n      <td>شهرستان</td>\n      <td>آشتیانگندم</td>\n      <td>20940.4</td>\n      <td>74.615</td>\n      <td>21015</td>\n      <td>گندم</td>\n      <td>آشتيان</td>\n    </tr>\n    <tr>\n      <th>4</th>\n      <td>آشتيا‏ن‏</td>\n      <td>2</td>\n      <td>0</td>\n      <td>2</td>\n      <td>جو</td>\n      <td>104</td>\n      <td>271.3</td>\n      <td>569.2</td>\n      <td>840.5</td>\n      <td>شهرستان</td>\n      <td>آشتیانجو</td>\n      <td>245.25</td>\n      <td>175.018</td>\n      <td>420.269</td>\n      <td>جو</td>\n      <td>آشتيان</td>\n    </tr>\n    <tr>\n      <th>...</th>\n      <td>...</td>\n      <td>...</td>\n      <td>...</td>\n      <td>...</td>\n      <td>...</td>\n      <td>...</td>\n      <td>...</td>\n      <td>...</td>\n      <td>...</td>\n      <td>...</td>\n      <td>...</td>\n      <td>...</td>\n      <td>...</td>\n      <td>...</td>\n      <td>...</td>\n      <td>...</td>\n    </tr>\n    <tr>\n      <th>1236</th>\n      <td>فردیس</td>\n      <td>3206</td>\n      <td>32</td>\n      <td>6</td>\n      <td>گندم‏</td>\n      <td>102</td>\n      <td>104.3</td>\n      <td>0</td>\n      <td>104.3</td>\n      <td>NaN</td>\n      <td>فردیسگندم</td>\n      <td>NaN</td>\n      <td>NaN</td>\n      <td>NaN</td>\n      <td>NaN</td>\n      <td>NaN</td>\n    </tr>\n    <tr>\n      <th>1237</th>\n      <td>فردیس</td>\n      <td>3206</td>\n      <td>32</td>\n      <td>6</td>\n      <td>جو</td>\n      <td>104</td>\n      <td>98.9</td>\n      <td>0</td>\n      <td>98.9</td>\n      <td>NaN</td>\n      <td>فردیسجو</td>\n      <td>NaN</td>\n      <td>NaN</td>\n      <td>NaN</td>\n      <td>NaN</td>\n      <td>NaN</td>\n    </tr>\n    <tr>\n      <th>1238</th>\n      <td>فردیس</td>\n      <td>3206</td>\n      <td>32</td>\n      <td>6</td>\n      <td>کل محصولات</td>\n      <td>199</td>\n      <td>1067.29</td>\n      <td>0</td>\n      <td>1067.29</td>\n      <td>NaN</td>\n      <td>فردیسکل</td>\n      <td>NaN</td>\n      <td>NaN</td>\n      <td>NaN</td>\n      <td>NaN</td>\n      <td>NaN</td>\n    </tr>\n    <tr>\n      <th>1239</th>\n      <td>NaN</td>\n      <td>NaN</td>\n      <td>NaN</td>\n      <td>NaN</td>\n      <td>NaN</td>\n      <td>NaN</td>\n      <td>NaN</td>\n      <td>NaN</td>\n      <td>NaN</td>\n      <td>NaN</td>\n      <td>NaN</td>\n      <td>NaN</td>\n      <td>NaN</td>\n      <td>NaN</td>\n      <td>NaN</td>\n      <td>NaN</td>\n    </tr>\n    <tr>\n      <th>1240</th>\n      <td>NaN</td>\n      <td>NaN</td>\n      <td>NaN</td>\n      <td>NaN</td>\n      <td>NaN</td>\n      <td>NaN</td>\n      <td>NaN</td>\n      <td>NaN</td>\n      <td>11057.9</td>\n      <td>NaN</td>\n      <td>NaN</td>\n      <td>NaN</td>\n      <td>NaN</td>\n      <td>NaN</td>\n      <td>NaN</td>\n      <td>NaN</td>\n    </tr>\n  </tbody>\n</table>\n<p>1241 rows × 16 columns</p>\n</div>"
     },
     "metadata": {},
     "execution_count": 97
    }
   ],
   "source": [
    "result2"
   ]
  },
  {
   "cell_type": "code",
   "execution_count": 100,
   "metadata": {},
   "outputs": [],
   "source": [
    "result2.columns=result1.columns\n",
    "output_cult=pd.concat([result1,result2])"
   ]
  },
  {
   "cell_type": "code",
   "execution_count": 101,
   "metadata": {},
   "outputs": [],
   "source": [
    "output_cult.to_excel('output_cult.xlsx')"
   ]
  },
  {
   "cell_type": "code",
   "execution_count": null,
   "metadata": {},
   "outputs": [],
   "source": []
  }
 ]
}