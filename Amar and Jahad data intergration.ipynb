{
 "metadata": {
  "language_info": {
   "codemirror_mode": {
    "name": "ipython",
    "version": 3
   },
   "file_extension": ".py",
   "mimetype": "text/x-python",
   "name": "python",
   "nbconvert_exporter": "python",
   "pygments_lexer": "ipython3",
   "version": "3.8.5-final"
  },
  "orig_nbformat": 2,
  "kernelspec": {
   "name": "python3",
   "display_name": "Python 3",
   "language": "python"
  }
 },
 "nbformat": 4,
 "nbformat_minor": 2,
 "cells": [
  {
   "cell_type": "code",
   "execution_count": 48,
   "metadata": {},
   "outputs": [],
   "source": [
    "import pandas as pd"
   ]
  },
  {
   "cell_type": "code",
   "execution_count": 49,
   "metadata": {},
   "outputs": [],
   "source": [
    "#province data\n",
    "\n",
    "df_pro=pd.DataFrame(columns=['دیم','آبی','کل','استان'])\n",
    "\n",
    "for i in range(1,31):\n",
    "    df_i=pd.read_excel(r'C:\\Users\\a\\Documents\\Python\\Lotus\\Excel\\agri93- ('+str(i)+').xls', sheet_name='t26')\n",
    "    df_i.dropna(how='all', inplace=True)\n",
    "    Provinces=[(df_i.iloc[0,2].split('(')[1].split(')')[0])]*3\n",
    "    \n",
    "    df_i.dropna(thresh=2, inplace=True)\n",
    "    \n",
    "    df_i.reset_index(inplace=True, drop=True)\n",
    "    df_i.drop([1,5,6], inplace=True)\n",
    "    df_i.drop(df_i.columns[[0,1,2,4,6,8]], axis=1, inplace=True)\n",
    "    df_i.dropna(how='all', axis=1, inplace=True)\n",
    "\n",
    "    df_i.columns=df_i.iloc[0]\n",
    "    df_i.drop([0], inplace=True)\n",
    "    df_i.set_index(list(df_i.columns[[3]]), inplace=True)\n",
    "    \n",
    "    df_i['استان']=Provinces\n",
    "    df_pro=pd.concat([df_pro,df_i])"
   ]
  },
  {
   "cell_type": "code",
   "execution_count": 50,
   "metadata": {},
   "outputs": [],
   "source": [
    "#city data wheat\n",
    "\n",
    "df_city_wheat=pd.DataFrame(columns=['دیم','آبی','کل'])\n",
    "#    i=1\n",
    "for i in range(1,31):\n",
    "    df_i=pd.read_excel(r'C:\\Users\\a\\Documents\\Python\\Lotus\\Excel\\agri93- ('+str(i)+').xls', sheet_name='t27')\n",
    "    df_i.dropna(how='all', inplace=True)\n",
    "    #Provinces=[(df_i.iloc[0,1].split('(')[1].split(')')[0])]*3\n",
    "    \n",
    "    df_i.dropna(thresh=2, inplace=True)\n",
    "    \n",
    "    df_i.reset_index(inplace=True, drop=True)\n",
    "    df_i.drop([1,2], inplace=True)\n",
    "    df_i.drop(df_i.columns[[0,2,4,6]], axis=1, inplace=True)\n",
    "    df_i.dropna(how='all', axis=1, inplace=True)\n",
    "\n",
    "    df_i.columns=df_i.iloc[0]\n",
    "    df_i.drop([0], inplace=True)\n",
    "    df_i.set_index(list(df_i.columns[[3]]), inplace=True)\n",
    "    \n",
    "    #df_i['استان']=Provinces\n",
    "    df_city_wheat=pd.concat([df_city_wheat,df_i])"
   ]
  },
  {
   "cell_type": "code",
   "execution_count": 51,
   "metadata": {},
   "outputs": [],
   "source": [
    "#city data Barley\n",
    "\n",
    "df_city_barley=pd.DataFrame(columns=['دیم','آبی','کل'])\n",
    "#    i=1\n",
    "for i in range(1,31):\n",
    "    df_i=pd.read_excel(r'C:\\Users\\a\\Documents\\Python\\Lotus\\Excel\\agri93- ('+str(i)+').xls', sheet_name='t31')\n",
    "    df_i.dropna(how='all', inplace=True)\n",
    "    #Provinces=[(df_i.iloc[0,1].split('(')[1].split(')')[0])]*3\n",
    "    \n",
    "    df_i.dropna(thresh=2, inplace=True)\n",
    "    \n",
    "    df_i.reset_index(inplace=True, drop=True)\n",
    "    df_i.drop([1,2], inplace=True)\n",
    "    df_i.drop(df_i.columns[[0,2,4,6]], axis=1, inplace=True)\n",
    "    df_i.dropna(how='all', axis=1, inplace=True)\n",
    "\n",
    "    df_i.columns=df_i.iloc[0]\n",
    "    df_i.drop([0], inplace=True)\n",
    "    df_i.set_index(list(df_i.columns[[3]]), inplace=True)\n",
    "    \n",
    "    #df_i['استان']=Provinces\n",
    "    df_city_barley=pd.concat([df_city_barley,df_i])"
   ]
  },
  {
   "cell_type": "code",
   "execution_count": 52,
   "metadata": {},
   "outputs": [],
   "source": [
    "df_city_barley['محصول']='جو'\n",
    "df_city_wheat['محصول']='گندم'\n",
    "df_wb=pd.concat([df_city_wheat,df_city_barley])\n",
    "df_wb['شهرستان']=df_wb.index\n",
    "df_wb.reset_index(drop=True, inplace=True)"
   ]
  },
  {
   "cell_type": "code",
   "execution_count": 53,
   "metadata": {},
   "outputs": [
    {
     "output_type": "execute_result",
     "data": {
      "text/plain": [
       "0       دیم      آبی       کل         استان محصول\n",
       "0    200890   111316   312206         مرکزي   کل \n",
       "1    187423  36994.7   224418         مرکزي  گندم\n",
       "2   10378.2  33784.7  44162.9         مرکزي    جو\n",
       "3   17593.2   129309   146903         گيلان   کل \n",
       "4   7578.31  168.099  7746.41         گيلان  گندم\n",
       "..      ...      ...      ...           ...   ...\n",
       "85  93301.1  39594.1   132895  خراسان شمالي  گندم\n",
       "86  34845.7  25233.9  60079.6  خراسان شمالي    جو\n",
       "87  11773.8  62324.6  74098.4  خراسان جنوبي   کل \n",
       "88  8690.32    18179  26869.3  خراسان جنوبي  گندم\n",
       "89  1562.55  18722.7  20285.3  خراسان جنوبي    جو\n",
       "\n",
       "[90 rows x 5 columns]"
      ],
      "text/html": "<div>\n<style scoped>\n    .dataframe tbody tr th:only-of-type {\n        vertical-align: middle;\n    }\n\n    .dataframe tbody tr th {\n        vertical-align: top;\n    }\n\n    .dataframe thead th {\n        text-align: right;\n    }\n</style>\n<table border=\"1\" class=\"dataframe\">\n  <thead>\n    <tr style=\"text-align: right;\">\n      <th></th>\n      <th>دیم</th>\n      <th>آبی</th>\n      <th>کل</th>\n      <th>استان</th>\n      <th>محصول</th>\n    </tr>\n  </thead>\n  <tbody>\n    <tr>\n      <th>0</th>\n      <td>200890</td>\n      <td>111316</td>\n      <td>312206</td>\n      <td>مرکزي</td>\n      <td>کل</td>\n    </tr>\n    <tr>\n      <th>1</th>\n      <td>187423</td>\n      <td>36994.7</td>\n      <td>224418</td>\n      <td>مرکزي</td>\n      <td>گندم</td>\n    </tr>\n    <tr>\n      <th>2</th>\n      <td>10378.2</td>\n      <td>33784.7</td>\n      <td>44162.9</td>\n      <td>مرکزي</td>\n      <td>جو</td>\n    </tr>\n    <tr>\n      <th>3</th>\n      <td>17593.2</td>\n      <td>129309</td>\n      <td>146903</td>\n      <td>گيلان</td>\n      <td>کل</td>\n    </tr>\n    <tr>\n      <th>4</th>\n      <td>7578.31</td>\n      <td>168.099</td>\n      <td>7746.41</td>\n      <td>گيلان</td>\n      <td>گندم</td>\n    </tr>\n    <tr>\n      <th>...</th>\n      <td>...</td>\n      <td>...</td>\n      <td>...</td>\n      <td>...</td>\n      <td>...</td>\n    </tr>\n    <tr>\n      <th>85</th>\n      <td>93301.1</td>\n      <td>39594.1</td>\n      <td>132895</td>\n      <td>خراسان شمالي</td>\n      <td>گندم</td>\n    </tr>\n    <tr>\n      <th>86</th>\n      <td>34845.7</td>\n      <td>25233.9</td>\n      <td>60079.6</td>\n      <td>خراسان شمالي</td>\n      <td>جو</td>\n    </tr>\n    <tr>\n      <th>87</th>\n      <td>11773.8</td>\n      <td>62324.6</td>\n      <td>74098.4</td>\n      <td>خراسان جنوبي</td>\n      <td>کل</td>\n    </tr>\n    <tr>\n      <th>88</th>\n      <td>8690.32</td>\n      <td>18179</td>\n      <td>26869.3</td>\n      <td>خراسان جنوبي</td>\n      <td>گندم</td>\n    </tr>\n    <tr>\n      <th>89</th>\n      <td>1562.55</td>\n      <td>18722.7</td>\n      <td>20285.3</td>\n      <td>خراسان جنوبي</td>\n      <td>جو</td>\n    </tr>\n  </tbody>\n</table>\n<p>90 rows × 5 columns</p>\n</div>"
     },
     "metadata": {},
     "execution_count": 53
    }
   ],
   "source": [
    "df_pro['استان']=df_pro['استان'].str.replace('استان ','')\n",
    "df_pro['محصول']=df_pro.index\n",
    "df_pro.reset_index(drop=True, inplace=True)\n",
    "df_pro"
   ]
  },
  {
   "cell_type": "code",
   "execution_count": 55,
   "metadata": {},
   "outputs": [
    {
     "output_type": "execute_result",
     "data": {
      "text/plain": [
       "         دیم      آبی       کل محصول شهرستان         استان\n",
       "0    20863.9  6666.67  27530.6  گندم    اراک           NaN\n",
       "1    20940.4   74.615    21015  گندم  آشتيان           NaN\n",
       "2    4903.35  706.277  5609.62  گندم    تفرش           NaN\n",
       "3    12362.5  4939.69  17302.2  گندم    خمين           NaN\n",
       "4    5733.74  1946.76  7680.51  گندم   خنداب           NaN\n",
       "..       ...      ...      ...   ...     ...           ...\n",
       "931  93301.1  39594.1   132895  گندم     NaN  خراسان شمالي\n",
       "932  34845.7  25233.9  60079.6    جو     NaN  خراسان شمالي\n",
       "933  11773.8  62324.6  74098.4   کل      NaN  خراسان جنوبي\n",
       "934  8690.32    18179  26869.3  گندم     NaN  خراسان جنوبي\n",
       "935  1562.55  18722.7  20285.3    جو     NaN  خراسان جنوبي\n",
       "\n",
       "[936 rows x 6 columns]"
      ],
      "text/html": "<div>\n<style scoped>\n    .dataframe tbody tr th:only-of-type {\n        vertical-align: middle;\n    }\n\n    .dataframe tbody tr th {\n        vertical-align: top;\n    }\n\n    .dataframe thead th {\n        text-align: right;\n    }\n</style>\n<table border=\"1\" class=\"dataframe\">\n  <thead>\n    <tr style=\"text-align: right;\">\n      <th></th>\n      <th>دیم</th>\n      <th>آبی</th>\n      <th>کل</th>\n      <th>محصول</th>\n      <th>شهرستان</th>\n      <th>استان</th>\n    </tr>\n  </thead>\n  <tbody>\n    <tr>\n      <th>0</th>\n      <td>20863.9</td>\n      <td>6666.67</td>\n      <td>27530.6</td>\n      <td>گندم</td>\n      <td>اراک</td>\n      <td>NaN</td>\n    </tr>\n    <tr>\n      <th>1</th>\n      <td>20940.4</td>\n      <td>74.615</td>\n      <td>21015</td>\n      <td>گندم</td>\n      <td>آشتيان</td>\n      <td>NaN</td>\n    </tr>\n    <tr>\n      <th>2</th>\n      <td>4903.35</td>\n      <td>706.277</td>\n      <td>5609.62</td>\n      <td>گندم</td>\n      <td>تفرش</td>\n      <td>NaN</td>\n    </tr>\n    <tr>\n      <th>3</th>\n      <td>12362.5</td>\n      <td>4939.69</td>\n      <td>17302.2</td>\n      <td>گندم</td>\n      <td>خمين</td>\n      <td>NaN</td>\n    </tr>\n    <tr>\n      <th>4</th>\n      <td>5733.74</td>\n      <td>1946.76</td>\n      <td>7680.51</td>\n      <td>گندم</td>\n      <td>خنداب</td>\n      <td>NaN</td>\n    </tr>\n    <tr>\n      <th>...</th>\n      <td>...</td>\n      <td>...</td>\n      <td>...</td>\n      <td>...</td>\n      <td>...</td>\n      <td>...</td>\n    </tr>\n    <tr>\n      <th>931</th>\n      <td>93301.1</td>\n      <td>39594.1</td>\n      <td>132895</td>\n      <td>گندم</td>\n      <td>NaN</td>\n      <td>خراسان شمالي</td>\n    </tr>\n    <tr>\n      <th>932</th>\n      <td>34845.7</td>\n      <td>25233.9</td>\n      <td>60079.6</td>\n      <td>جو</td>\n      <td>NaN</td>\n      <td>خراسان شمالي</td>\n    </tr>\n    <tr>\n      <th>933</th>\n      <td>11773.8</td>\n      <td>62324.6</td>\n      <td>74098.4</td>\n      <td>کل</td>\n      <td>NaN</td>\n      <td>خراسان جنوبي</td>\n    </tr>\n    <tr>\n      <th>934</th>\n      <td>8690.32</td>\n      <td>18179</td>\n      <td>26869.3</td>\n      <td>گندم</td>\n      <td>NaN</td>\n      <td>خراسان جنوبي</td>\n    </tr>\n    <tr>\n      <th>935</th>\n      <td>1562.55</td>\n      <td>18722.7</td>\n      <td>20285.3</td>\n      <td>جو</td>\n      <td>NaN</td>\n      <td>خراسان جنوبي</td>\n    </tr>\n  </tbody>\n</table>\n<p>936 rows × 6 columns</p>\n</div>"
     },
     "metadata": {},
     "execution_count": 55
    }
   ],
   "source": [
    "df_total=pd.concat([df_wb,df_pro])\n",
    "df_total.reset_index(drop=True, inplace=True)\n",
    "df_total"
   ]
  },
  {
   "cell_type": "code",
   "execution_count": null,
   "metadata": {},
   "outputs": [],
   "source": []
  }
 ]
}